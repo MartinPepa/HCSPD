{
  "nbformat": 4,
  "nbformat_minor": 0,
  "metadata": {
    "colab": {
      "provenance": []
    },
    "kernelspec": {
      "name": "ir",
      "display_name": "R"
    },
    "language_info": {
      "name": "R"
    }
  },
  "cells": [
    {
      "cell_type": "code",
      "execution_count": null,
      "metadata": {
        "colab": {
          "base_uri": "https://localhost:8080/",
          "height": 86
        },
        "id": "JeXQOItYONrO",
        "outputId": "af19ce2f-4002-4f46-db70-18a07ea6ace3"
      },
      "outputs": [
        {
          "output_type": "display_data",
          "data": {
            "text/html": [
              "<strong>png:</strong> 2"
            ],
            "text/markdown": "**png:** 2",
            "text/latex": "\\textbf{png:} 2",
            "text/plain": [
              "png \n",
              "  2 "
            ]
          },
          "metadata": {}
        },
        {
          "output_type": "display_data",
          "data": {
            "text/html": [
              "<strong>png:</strong> 2"
            ],
            "text/markdown": "**png:** 2",
            "text/latex": "\\textbf{png:} 2",
            "text/plain": [
              "png \n",
              "  2 "
            ]
          },
          "metadata": {}
        },
        {
          "output_type": "display_data",
          "data": {
            "text/html": [
              "<strong>png:</strong> 2"
            ],
            "text/markdown": "**png:** 2",
            "text/latex": "\\textbf{png:} 2",
            "text/plain": [
              "png \n",
              "  2 "
            ]
          },
          "metadata": {}
        },
        {
          "output_type": "display_data",
          "data": {
            "text/html": [
              "<strong>png:</strong> 2"
            ],
            "text/markdown": "**png:** 2",
            "text/latex": "\\textbf{png:} 2",
            "text/plain": [
              "png \n",
              "  2 "
            ]
          },
          "metadata": {}
        }
      ],
      "source": [
        "#t = seq(0,8*pi,pi/50)\n",
        "#y = cos(t)\n",
        "#plot(t,y, col=\"blue\", type=\"l\")\n",
        "\n",
        "#?? grid\n",
        "\n",
        "##################################################\n",
        "\n",
        "#--------------------\n",
        "# Ejercicio 1a\n",
        "#--------------------\n",
        "\n",
        "tf  <- 20\n",
        "t   <- seq(0, tf, by=0.01)\n",
        "ten <- 12 - 8 * sqrt(3) * exp(-t/2) * sin( sqrt(3) * t/2 + pi/3 )\n",
        "cor <- 8 * sqrt(3) * exp(-t/2) * sin( sqrt(3)*t/2 )\n",
        "\n",
        "#--------------------\n",
        "# Ejercicio 1b\n",
        "#--------------------\n",
        "\n",
        "u         <- 12\n",
        "ii        <- 0\n",
        "X         <- c(0,0)\n",
        "dim(X)    <- c(2,1)\n",
        "paso      <- 0.25\n",
        "R         <- 1\n",
        "L         <- 1\n",
        "C         <- 1\n",
        "\n",
        "x1        <- numeric(tf/paso)\n",
        "x2        <- numeric(tf/paso)\n",
        "acc       <- numeric(tf/paso)\n",
        "dim(x1)   <- c(tf/paso,1)\n",
        "dim(x2)   <- c(tf/paso,1)\n",
        "dim(acc)  <- c(tf/paso,1)\n",
        "\n",
        "A         <- c(-R/L, 1/C, -1/L, 0)\n",
        "B         <- c(1/L, 0)\n",
        "dim(A)    <- c(2,2)\n",
        "dim(B)    <- c(2,1)\n",
        "\n",
        "#----- No me sirvieron -----\n",
        "#ten_      <- numeric(tf/paso)\n",
        "#corr_     <- numeric(tf/paso)\n",
        "#dim(ten_) <- c(tf/paso,1)\n",
        "#dim(corr_)<- c(tf/paso,1)\n",
        "\n",
        "for(i in 0:(tf/paso)) {\n",
        "  ii      <- ii+1\n",
        "  x1[ii]  <- X[1]\n",
        "  x2[ii]  <- X[2]\n",
        "  xp      <- A %*% X + B %*% u\n",
        "  X       <- X + xp*paso\n",
        "  acc[ii] <- u\n",
        "}\n",
        "\n",
        "t1 <- seq(0, tf, paso)\n",
        "\n",
        "png(file=\"Tension_1.png\",width=800, height=600)\n",
        "plot(t, ten, lwd=3, type=\"l\", main=\"Tensión | x2\", xlab=\"Tiempo [s]\", ylab=\"Tensión [V]\", col=\"blue\", xlim = c(0,20), ylim = c(0,16), cex.lab = 1.5, cex.axis = 1.5, cex.main = 1.5)\n",
        "lines(t1, x2, lwd=3, type=\"b\", col=\"red\")\n",
        "grid(col=\"black\")\n",
        "dev.off()\n",
        "\n",
        "png(file=\"Corriente_1.png\",width=800, height=600)\n",
        "plot(t, cor, lwd=3, type=\"l\", main=\"Corriente | x1\", xlab=\"Tiempo [s]\", ylab=\"Corriente [A]\",col=\"blue\", , xlim = c(0,20), ylim = c(-2,8), cex.lab = 1.5, cex.axis = 1.5, cex.main = 1.5)\n",
        "lines(t1, x1, lwd=3, type=\"b\", col=\"red\")\n",
        "grid(col=\"black\")\n",
        "dev.off()\n",
        "\n",
        "##################################################\n",
        "\n",
        "#--------------------\n",
        "# Ejercicio 2\n",
        "#--------------------\n",
        "\n",
        "tf  <- 0.0015\n",
        "t   <- seq(0, tf, by=0.00001)\n",
        "ten_ <- 12 - 0.00024794925315873*exp(-219995454.451536*t)-12.0002479492532*exp(-4545.5484636724*t)\n",
        "cor_ <- 8.67361737988404*exp(-19) - 0.00545477086295743*exp(-219995454.451536*t) + 0.00545477086295742*exp(-4545.5484636724*t)\n",
        "\n",
        "#\n",
        "#- Tensión:\n",
        "#    v(t) = 12 - 0.00024794925315873*exp(-219995454.451536*t)\n",
        "#    -12.0002479492532*exp(-4545.5484636724⋅t)\n",
        "#- Corriente:\n",
        "#    i(t) = 8.67361737988404*exp(-19) \n",
        "#    - 0.00545477086295743*exp(-219995454.451536*t)\n",
        "#    + 0.00545477086295742*exp(-4545.5484636724*t)\n",
        "#\n",
        "\n",
        "png(file=\"Tension_2.png\",width=800, height=600)\n",
        "plot(t*1000, ten_, lwd=3, type=\"b\", main=\"Tensión | x2\", xlab=\"Tiempo [ms]\", ylab=\"Tensión [V]\", col=\"darkgreen\", cex.lab = 1.5, cex.axis = 1.5, cex.main = 1.5)\n",
        "#lines(t1, x2, lwd=3, type=\"b\", col=\"red\")\n",
        "grid(col=\"black\")\n",
        "dev.off()\n",
        "\n",
        "png(file=\"Corriente_2.png\",width=800, height=600)\n",
        "plot(t*1000, cor_*1000, lwd=3, type=\"b\", main=\"Corriente | x1\", xlab=\"Tiempo [ms]\", ylab=\"Corriente [mA]\",col=\"darkgreen\", cex.lab = 1.5, cex.axis = 1.5, cex.main = 1.5)\n",
        "#lines(t1, x1, lwd=3, type=\"b\", col=\"red\")\n",
        "grid(col=\"black\")\n",
        "dev.off()\n",
        "\n"
      ]
    }
  ]
}