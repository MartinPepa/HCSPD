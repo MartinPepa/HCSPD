{
  "nbformat": 4,
  "nbformat_minor": 0,
  "metadata": {
    "colab": {
      "provenance": []
    },
    "kernelspec": {
      "name": "python3",
      "display_name": "Python 3"
    },
    "language_info": {
      "name": "python"
    }
  },
  "cells": [
    {
      "cell_type": "markdown",
      "source": [
        "# **Cálculo simbólico en Python**\n",
        "\n",
        "---"
      ],
      "metadata": {
        "id": "2Rv_z_XZLNCd"
      }
    },
    {
      "cell_type": "markdown",
      "source": [
        "En Python se puede resolver las ecuaciones diferenciales y las ecuaciones algebraicas necesarias para linealizar un proceso no lineal y diseñarle un controlador.\n",
        "\n",
        "Para resolver un sistema de ecuaciones lineales donde $c_2(t)=\\dot{c_1}(t)$ y $c_1(t)=\\dot{c_2}(t)$, se puede resolver mediante la función dsolve()."
      ],
      "metadata": {
        "id": "o9HKX5NzCZVF"
      }
    },
    {
      "cell_type": "code",
      "execution_count": null,
      "metadata": {
        "id": "tT5midKYxyM7",
        "colab": {
          "base_uri": "https://localhost:8080/",
          "height": 58
        },
        "outputId": "e15f9eb8-b63a-4d7d-f094-3d181993a9ae"
      },
      "outputs": [
        {
          "output_type": "execute_result",
          "data": {
            "text/plain": [
              "⎡         t    -t           t    -t⎤\n",
              "⎢        ℯ    ℯ            ℯ    ℯ  ⎥\n",
              "⎢c₁(t) = ── + ───, c₂(t) = ── - ───⎥\n",
              "⎣        2     2           2     2 ⎦"
            ],
            "text/latex": "$\\displaystyle \\left[ c_{1}{\\left(t \\right)} = \\frac{e^{t}}{2} + \\frac{e^{- t}}{2}, \\  c_{2}{\\left(t \\right)} = \\frac{e^{t}}{2} - \\frac{e^{- t}}{2}\\right]$"
          },
          "metadata": {},
          "execution_count": 1
        }
      ],
      "source": [
        "from sympy import *\n",
        "import numpy as np\n",
        "init_printing(use_unicode=True)\n",
        "x, y, z, t, w,  V=symbols('x y z t omega V')\n",
        "c1=Function('c1')\n",
        "c2=Function('c2')\n",
        "# hq=symbols('hbar',positive=True)\n",
        "g1=Eq(c2(t),Derivative(c1(t),t))\n",
        "g2=Eq(c1(t),Derivative(c2(t),t))\n",
        "eq=(g1,g2)\n",
        "res=dsolve(eq,hint='all',ics={c1(0):1,c2(0):0})\n",
        "# pretty_print(res)\n",
        "res\n"
      ]
    },
    {
      "cell_type": "markdown",
      "source": [
        "# **Linealización en el equilibrio inestable**"
      ],
      "metadata": {
        "id": "8McsezwDylVw"
      }
    },
    {
      "cell_type": "markdown",
      "source": [
        "Para el caso de la linealización de sistemas dinámicos, como el péndulo en su equilibrio inestable, se puede linealizar aplicando Taylor a las ecuaciones\n",
        "\n",
        "\n",
        "<!-- $(M+m)\\cdot\\ddot{\\delta} = u- m\\cdot long \\cdot \\ddot{\\phi} + m\\cdot long \\cdot \\dot{\\phi}^2 \\cdot \\phi -Fricc\\cdot \\dot{\\delta}$,\n",
        "$Long \\cdot \\ddot{\\phi} = g \\cdot \\phi - \\ddot{\\delta}$ -->\n",
        "$\\begin{equation*}\n",
        "\\begin{cases}\n",
        "(M+m)\\cdot\\ddot{\\delta} = u- m\\cdot long \\cdot \\ddot{\\phi} + m\\cdot long \\cdot \\dot{\\phi}^2 \\cdot \\phi -Fricc\\cdot \\dot{\\delta} \\\\\n",
        "Long \\cdot \\ddot{\\phi} = g \\cdot \\phi - \\ddot{\\delta} \n",
        "\\end{cases}\n",
        "\\end{equation*}$\n",
        "\n",
        "en el punto de operación $x=[ \\delta,\\dot{\\delta},\\phi,\\dot{\\phi}]^T$, valuado en $[0,0,0,0]^T$.\n",
        "Primero se trata de despejar las funciones $\\ddot{\\delta}$ y $\\ddot{\\phi}$. \n"
      ],
      "metadata": {
        "id": "a7oGKWhODXHi"
      }
    },
    {
      "cell_type": "code",
      "source": [
        "from sympy import *\n",
        "import numpy as np\n",
        "init_printing(use_unicode=True)\n",
        "#syms fi fi_p fi_pp p p_p p_pp M m u long Fricc g;\n",
        "fi, fi_p, fi_pp, p, p_p, p_pp, M, m, u, long, Fricc, g=symbols('fi fi_p fi_pp p p_p p_pp M m u long Fricc g')\n",
        "# p_pp=(1/(M+m))*(u-m*long*fi_pp+m*long*fi_p**2*fi-Fricc*p_p) #; %Pequeños angulos\n",
        "Eq1=Eq(p_pp-(1/(M+m))*(u-m*long*fi_pp+m*long*fi_p**2*fi-Fricc*p_p),0)\n",
        "#% fi_pp=(1/long)*(g*(fi)-p_pp); %Pequeños angulos para fi~0, sin(fi)~fi, cos(fi)~1 \n",
        "Eq2=Eq(fi_pp-(1/long)*(g*fi-p_pp),0)\n",
        "sol = solve((Eq1, Eq2),(p_pp, fi_pp))\n",
        "# print(sol)\n",
        "p_pp=sol[p_pp]\n",
        "fi_pp=sol[fi_pp]\n",
        "print('p_pp final es')\n",
        "print(p_pp)\n",
        "print('fi_pp final es')\n",
        "print(fi_pp)"
      ],
      "metadata": {
        "id": "HCXKiYqiILCo",
        "colab": {
          "base_uri": "https://localhost:8080/"
        },
        "outputId": "859b5f2a-0536-47b7-e965-ed83b8998800"
      },
      "execution_count": null,
      "outputs": [
        {
          "output_type": "stream",
          "name": "stdout",
          "text": [
            "p_pp final es\n",
            "(-Fricc*p_p + fi*fi_p**2*long*m - fi*g*m + u)/M\n",
            "fi_pp final es\n",
            "(Fricc*p_p + M*fi*g - fi*fi_p**2*long*m + fi*g*m - u)/(M*long)\n"
          ]
        }
      ]
    },
    {
      "cell_type": "markdown",
      "source": [
        "Así, para el equilibrio inestable, ambas funciones son:\n",
        "\n",
        "$\\begin{equation*}\n",
        "\\begin{cases}\n",
        "\\ddot{\\delta} = \\dfrac{-Fricc \\cdot \\dot{\\delta}+\\phi \\cdot {\\dot{\\delta}}^2\\cdot long\\cdot m -\\phi\\cdot g\\cdot m+u}{M} \\\\\n",
        "\\ddot{\\phi} = \\dfrac{Fricc \\cdot \\dot{\\delta}+M \\cdot \\phi \\cdot g- \\phi \\cdot{\\dot{\\phi}}^2\\cdot long\\cdot m + \\phi\\cdot g\\cdot m-u}{M\\cdot long} \n",
        "\\end{cases}\n",
        "\\end{equation*}$\n",
        "<!-- \n",
        "p_pp=\n",
        "                      2                    \n",
        "  -Fricc⋅p_p + fi⋅fi_p ⋅long⋅m - fi⋅g⋅m + u\n",
        "  ─────────────────────────────────────────\n",
        "                      M                    \n",
        "fi_pp=\n",
        "                              2                    \n",
        "  Fricc⋅p_p + M⋅fi⋅g - fi⋅fi_p ⋅long⋅m + fi⋅g⋅m - u\n",
        "  ─────────────────────────────────────────────────\n",
        "                        M⋅long                             -->\n",
        "\n",
        "Ahora se procede a realizar las derivadas de las funciones $\\ddot{\\delta}$ y $\\ddot{\\phi}$ respecto de las cuatro variables, que son $\\delta$, $\\dot{\\delta}$, $\\phi$, y $\\ddot{\\phi}$.\n",
        "Se emplea la función diff() y al resultado se lo valúa en el punto de operación mediante la indicación de cada uno con la operación .subs()."
      ],
      "metadata": {
        "id": "xHkWc1oVe-kZ"
      }
    },
    {
      "cell_type": "code",
      "source": [
        "Mat_A=[[0,1,0,0],\n",
        "  [diff(p_pp, p).subs(p,0).subs(p_p,0).subs(fi,0).subs(fi_p,0),\n",
        "  diff(p_pp, p_p).subs(p,0).subs(p_p,0).subs(fi,0).subs(fi_p,0),\n",
        "  diff(p_pp, fi).subs(p,0).subs(p_p,0).subs(fi,0).subs(fi_p,0),\n",
        "  diff(p_pp, fi_p).subs(p,0).subs(p_p,0).subs(fi,0).subs(fi_p,0)],\n",
        "  [0,0,0,1],\n",
        "  [diff(fi_pp, p).subs(p,0).subs(p_p,0).subs(fi,0).subs(fi_p,0),\n",
        "  diff(fi_pp, p_p).subs(p,0).subs(p_p,0).subs(fi,0).subs(fi_p,0),\n",
        "  diff(fi_pp, fi).subs(p,0).subs(p_p,0).subs(fi,0).subs(fi_p,0),\n",
        "  diff(fi_pp, fi_p).subs(p,0).subs(p_p,0).subs(fi,0).subs(fi_p,0)]]\n",
        "Mat_B=[[0],\n",
        " [diff(p_pp, u).subs(p,0).subs(p_p,0).subs(fi,0).subs(fi_p,0)],\n",
        " [0],\n",
        "[diff(fi_pp, u).subs(p,0).subs(p_p,0).subs(fi,0).subs(fi_p,0)]]\n",
        "# print(Mat_A)\n",
        "# print(Mat_B)\n",
        "pretty_print(Mat_A)\n",
        "pretty_print(Mat_B)"
      ],
      "metadata": {
        "colab": {
          "base_uri": "https://localhost:8080/"
        },
        "id": "k7ga4q7AK2ZH",
        "outputId": "c3275fad-c171-45c1-fdda-d884a88e2ab8"
      },
      "execution_count": null,
      "outputs": [
        {
          "output_type": "stream",
          "name": "stdout",
          "text": [
            "⎡              ⎡   -Fricc   -g⋅m    ⎤                ⎡   Fricc   M⋅g + g⋅m   ⎤\n",
            "⎢[0, 1, 0, 0], ⎢0, ───────, ─────, 0⎥, [0, 0, 0, 1], ⎢0, ──────, ─────────, 0⎥\n",
            "⎣              ⎣      M       M     ⎦                ⎣   M⋅long    M⋅long    ⎦\n",
            "\n",
            "⎤\n",
            "⎥\n",
            "⎦\n",
            "⎡     ⎡1⎤       ⎡ -1   ⎤⎤\n",
            "⎢[0], ⎢─⎥, [0], ⎢──────⎥⎥\n",
            "⎣     ⎣M⎦       ⎣M⋅long⎦⎦\n"
          ]
        }
      ]
    },
    {
      "cell_type": "code",
      "source": [
        "Mat_A"
      ],
      "metadata": {
        "colab": {
          "base_uri": "https://localhost:8080/",
          "height": 58
        },
        "id": "yMZ2oMOoBzNi",
        "outputId": "9e8f4f59-fd69-432b-e264-20dd1b4a6ad0"
      },
      "execution_count": null,
      "outputs": [
        {
          "output_type": "execute_result",
          "data": {
            "text/plain": [
              "⎡              ⎡   -Fricc   -g⋅m    ⎤                ⎡   Fricc   M⋅g + g⋅m   ⎤\n",
              "⎢[0, 1, 0, 0], ⎢0, ───────, ─────, 0⎥, [0, 0, 0, 1], ⎢0, ──────, ─────────, 0⎥\n",
              "⎣              ⎣      M       M     ⎦                ⎣   M⋅long    M⋅long    ⎦\n",
              "\n",
              "⎤\n",
              "⎥\n",
              "⎦"
            ],
            "text/latex": "$\\displaystyle \\left[ \\left[ 0, \\  1, \\  0, \\  0\\right], \\  \\left[ 0, \\  - \\frac{Fricc}{M}, \\  - \\frac{g m}{M}, \\  0\\right], \\  \\left[ 0, \\  0, \\  0, \\  1\\right], \\  \\left[ 0, \\  \\frac{Fricc}{M long}, \\  \\frac{M g + g m}{M long}, \\  0\\right]\\right]$"
          },
          "metadata": {},
          "execution_count": 9
        }
      ]
    },
    {
      "cell_type": "code",
      "source": [
        "Mat_B"
      ],
      "metadata": {
        "colab": {
          "base_uri": "https://localhost:8080/",
          "height": 58
        },
        "id": "P51n4hLNB9Ii",
        "outputId": "61435f6e-4a14-48bb-9344-f19a25ae179f"
      },
      "execution_count": null,
      "outputs": [
        {
          "output_type": "execute_result",
          "data": {
            "text/plain": [
              "⎡     ⎡1⎤       ⎡ -1   ⎤⎤\n",
              "⎢[0], ⎢─⎥, [0], ⎢──────⎥⎥\n",
              "⎣     ⎣M⎦       ⎣M⋅long⎦⎦"
            ],
            "text/latex": "$\\displaystyle \\left[ \\left[ 0\\right], \\  \\left[ \\frac{1}{M}\\right], \\  \\left[ 0\\right], \\  \\left[ - \\frac{1}{M long}\\right]\\right]$"
          },
          "metadata": {},
          "execution_count": 10
        }
      ]
    },
    {
      "cell_type": "markdown",
      "source": [
        "Se requiere verificar el correcto desempeño de la linealización hecha mediante la simulación numérica mediante Euler.\n",
        "\n",
        "**Simulación** del Péndulo con Python.\n",
        "A continuación se muestra el resultado.\n"
      ],
      "metadata": {
        "id": "ctdQfuYwqfph"
      }
    },
    {
      "cell_type": "markdown",
      "source": [
        "# **Verificación numérica y visualización gráfica**"
      ],
      "metadata": {
        "id": "M2KwUyOgy4cD"
      }
    },
    {
      "cell_type": "markdown",
      "source": [
        "# **Simulación numérica para el equilibrio inestable**\n",
        "\n"
      ],
      "metadata": {
        "id": "GtsgahmsuxOu"
      }
    },
    {
      "cell_type": "code",
      "source": [
        "import numpy as np\n",
        "import scipy as sp\n",
        "import scipy.signal\n",
        "from matplotlib import pyplot as plt\n",
        "from pylab import *\n",
        "from numpy.linalg import eig\n",
        "m=.1;Fricc=0.1; long=.6;g=9.8;M=.5;\n",
        "##%Versión linealizada en el equilibrio inestable. Sontag Pp 104.\n",
        "##%            estado=[p(i); p_p(i); fi(i); omega(i)]\n",
        "##Mat_A=[0 1 0 0;0 -Fricc/M -m*g/M 0; 0 0 0 1; 0 Fricc/(long*M) g*(m+M)/(long*M) 0];\n",
        "##Mat_B=[0; 1/M; 0; -1/(long*M)];1\n",
        "##Mat_C=[1 0 0 0]; %La salida es posición\n",
        "h=1e-4;t_simul=.10; #Tiene que ser muy pequeño para que se vea que coinciden\n",
        "Mat_A=np.array([[0. ,1. ,0. ,0.],[0.,-Fricc/M, -m*g/M,0.],[0., 0. ,0. ,1.],[0.,Fricc/(long*M) ,g*(m+M)/(long*M), 0.]])\n",
        "Mat_B=np.array([[0.],[1/M],[0.],[-1./(long*M)]])\n",
        "Mat_C=np.array([[1., 0., 0., 0.]])\n",
        "fi=np.linspace(0,0,int(t_simul/h))\n",
        "omega=np.linspace(0,0,int(t_simul/h))\n",
        "p_p=np.linspace(0,0,int(t_simul/h))\n",
        "u=np.linspace(0,0,int(t_simul/h))\n",
        "p=np.linspace(0,0,int(t_simul/h))\n",
        "y=np.linspace(0,0,int(t_simul/h))\n",
        "y_o=np.linspace(0,0,int(t_simul/h))\n",
        "p_O=np.linspace(0,0,int(t_simul/h))\n",
        "fi_O=np.linspace(0,0,int(t_simul/h))\n",
        "t=np.linspace(0,0,int(t_simul/h))\n",
        "##fi(1)=.1; color='r';\n",
        "##fi(1)=.2; color='g';\n",
        "##fi(1)=.7; color='b';\n",
        "fi[0]=.5\n",
        "fi_O[0]=fi[0]\n",
        "fi_pp=0.\n",
        "u[0]=0.\n",
        "estado=[[p[0]], [p_p[0]], [fi[0]], [omega[0]]]\n",
        "x_hat=estado #Igual condiciones inicial es del sistema lineal\n",
        "for ii in range(int(t_simul/h)-1):\n",
        "    y[ii]=np.matmul(Mat_C,estado)    \n",
        "    u[ii+1]=0.\n",
        "    p_pp=(1/(M+m))*(u[ii]-m*long*fi_pp*cos(fi[ii])+(m*long*omega[ii]**2)*sin(fi[ii])-Fricc*p_p[ii])\n",
        "    fi_pp=(1/long)*(g*sin(fi[ii])-p_pp*cos(fi[ii]))    \n",
        "    y_o[ii]=np.matmul(Mat_C,x_hat)\n",
        "    x_hatp = np.matmul(Mat_A,x_hat) + Mat_B*u[ii]   \n",
        "    # x_hatp = Mat_A @ x_hat + Mat_B @ u[ii]     \n",
        "    x_hat = x_hat + h*x_hatp;    \n",
        "    p_p[ii+1]  =p_p[ii]+h*p_pp;\n",
        "    p[ii+1]    =p[ii]+h*p_p[ii];\n",
        "    omega[ii+1]=omega[ii]+h*fi_pp;\n",
        "    fi[ii+1]   =fi[ii]+h*omega[ii];\n",
        "    t[ii] = ii*h\n",
        "    estado=[[p[ii+1]], [p_p[ii+1]], [fi[ii+1]], [omega[ii+1]]]\n",
        "    p_O[ii+1]=x_hat[0] #El vector inicia en 0, en Octave en 1\n",
        "    fi_O[ii+1]=x_hat[2]\n",
        "t[ii+1] = ii*h\n",
        "u[ii+1]=0.\n",
        "\n",
        "\n",
        "fig, axs = plt.subplots(2,2)\n",
        "fig.suptitle('Péndulo')\n",
        "axs[0,0].plot(t, fi, linewidth =1.0)\n",
        "axs[0,0].plot(t, fi_O, linewidth =1.0)\n",
        "axs[0,0].legend([\"No lineal\",\"Lineal\"])\n",
        "axs[0,0].grid( True )\n",
        "axs[0,0].set_ylabel('$\\phi_t$',rotation=0, fontsize=12) \n",
        "axs[0,1].plot(t, omega, linewidth =1.0)\n",
        "axs[0,1].set_ylabel('$\\dot{\\phi}$',rotation=0, fontsize=12)\n",
        "axs[0,1].grid( True )\n",
        "\n",
        "axs[1,0].plot(t[:-1], p[:-1], linewidth =1.0)\n",
        "axs[1,0].plot(t, p_O, linewidth =1.0)\n",
        "axs[1,0].legend([\"No lineal\",\"Lineal\"])\n",
        "axs[1,0].grid( True )\n",
        "axs[1,0].set_ylabel('$\\delta_t$',rotation=0, fontsize=12) \n",
        "axs[1,1].plot(t, p_p, linewidth =1.0)\n",
        "axs[1,1].set_ylabel('$\\dot{\\delta}$',rotation=0, fontsize=12)\n",
        "axs[1,1].grid( True )\n",
        "\n",
        "#Acción de control\n",
        "fig, ax1 = plt.subplots()\n",
        "plt.plot(t, u, linewidth =1.0)\n",
        "plt.grid( True )\n",
        "ax1.set_ylabel('$u_t$',rotation=0, fontsize=12) \n",
        "ax1.set_xlabel('Tiempo (s)')\n",
        "#ax1.set_title(r'$\\ddot{o}\\acute{e}\\grave{e}\\hat{O}'\n",
        "#             r'\\breve{i}\\bar{A}\\tilde{n}\\vec{q}$', fontsize=20)\n",
        "ax1.set_title('$Acción\\ de\\ control\\ u_t.$', fontsize=10)\n",
        "\n",
        "fig2, axs2 = plt.subplots(1,2)\n",
        "fig2.suptitle('Errores de linealización en el Equilibrio inestable')\n",
        "axs2[0].plot(t, fi-fi_O, linewidth =1.0)\n",
        "axs2[0].grid( True )\n",
        "axs2[0].set_title('$Error\\ \\phi_t-\\hat{\\phi_t}$',rotation=0, fontsize=12) \n",
        "axs2[1].plot(t, p-p_O, linewidth =1.0)\n",
        "axs2[1].set_title('$Error\\ \\delta_t\\hat{\\delta_t}$',rotation=0, fontsize=12)\n",
        "axs2[1].grid( True )"
      ],
      "metadata": {
        "id": "3F27c5y7Ndnj",
        "colab": {
          "base_uri": "https://localhost:8080/",
          "height": 850
        },
        "outputId": "94e8c669-868c-4891-8ab0-91bafaef631c"
      },
      "execution_count": null,
      "outputs": [
        {
          "output_type": "display_data",
          "data": {
            "text/plain": [
              "<Figure size 432x288 with 4 Axes>"
            ],
            "image/png": "[encoded data removed]"
          },
          "metadata": {
            "needs_background": "light"
          }
        },
        {
          "output_type": "display_data",
          "data": {
            "text/plain": [
              "<Figure size 432x288 with 1 Axes>"
            ],
            "image/png": "[encoded data removed]"
          },
          "metadata": {
            "needs_background": "light"
          }
        },
        {
          "output_type": "display_data",
          "data": {
            "text/plain": [
              "<Figure size 432x288 with 2 Axes>"
            ],
            "image/png": "[encoded data removed]"
          },
          "metadata": {
            "needs_background": "light"
          }
        }
      ]
    },
    {
      "cell_type": "markdown",
      "source": [
        "# **Linealización en el equilibrio estable**"
      ],
      "metadata": {
        "id": "S9-EERSRzaEo"
      }
    },
    {
      "cell_type": "markdown",
      "source": [
        "Para el caso de la linealización de sistemas dinámicos, como el péndulo en su equilibrio **estable**, se puede linealizar aplicando Taylor a las ecuaciones cuando $\\phi \\approx π$\n",
        "\n",
        "\n",
        "\n",
        "<!-- $(M+m)\\cdot\\ddot{\\delta} = u- m\\cdot long \\cdot \\ddot{\\phi} + m\\cdot long \\cdot \\dot{\\phi}^2 \\cdot (\\pi-\\phi) -Fricc\\cdot \\dot{\\delta}$,\n",
        "$Long \\cdot \\ddot{\\phi} = g \\cdot \\phi - \\ddot{\\delta}$ -->\n",
        "$\\begin{equation*}\n",
        "\\begin{cases}\n",
        "(M+m)\\cdot\\ddot{\\delta} = u- m\\cdot long \\cdot \\ddot{\\phi} - m\\cdot long \\cdot \\dot{\\phi}^2 \\cdot (\\pi-\\phi) -Fricc\\cdot \\dot{\\delta} \\\\\n",
        "Long \\cdot \\ddot{\\phi} = -g \\cdot (\\pi-\\phi) - \\ddot{\\delta} \n",
        "\\end{cases}\n",
        "\\end{equation*}$\n",
        "\n",
        "en el punto de operación $x=[ \\delta,\\dot{\\delta},\\phi,\\dot{\\phi}]^T$, valuado en $[0,0,\\pi,0]^T$.\n",
        "Primero se trata de despejar las funciones $\\ddot{\\delta}$ y $\\ddot{\\phi}$. \n"
      ],
      "metadata": {
        "id": "OzbNPuK58L3Z"
      }
    },
    {
      "cell_type": "code",
      "source": [
        "from sympy import *\n",
        "import numpy as np\n",
        "init_printing(use_unicode=True)\n",
        "#syms fi fi_p fi_pp p p_p p_pp M m u long Fricc g;\n",
        "fi, fi_p, fi_pp, p, p_p, p_pp, M, m, u, long, Fricc, g=symbols('fi fi_p fi_pp p p_p p_pp M m u long Fricc g')\n",
        "Eq1=Eq(p_pp-(1/(M+m))*(u+m*long*fi_pp+m*long*fi_p**2*(pi-fi)-Fricc*p_p),0)\n",
        "#% fi_pp=(1/long)*(g*(fi)-p_pp); %Pequeños angulos para fi~0, sin(fi)~fi, cos(fi)~1 \n",
        "Eq2=Eq(fi_pp-(1/long)*(g*(pi-fi)+p_pp),0)\n",
        "sol = solve((Eq1, Eq2),(p_pp, fi_pp))\n",
        "# print(sol)\n",
        "p_pp=sol[p_pp]\n",
        "fi_pp=sol[fi_pp]\n",
        "print('p_pp final es')\n",
        "print(p_pp)\n",
        "print('fi_pp final es')\n",
        "print(fi_pp)"
      ],
      "metadata": {
        "colab": {
          "base_uri": "https://localhost:8080/"
        },
        "outputId": "1c9300fb-935a-47fe-fa39-08e6f7021917",
        "id": "Y8GTHr4m8L3k"
      },
      "execution_count": null,
      "outputs": [
        {
          "output_type": "stream",
          "name": "stdout",
          "text": [
            "p_pp final es\n",
            "(-Fricc*p_p - fi*fi_p**2*long*m - fi*g*m + pi*fi_p**2*long*m + pi*g*m + u)/M\n",
            "fi_pp final es\n",
            "(-Fricc*p_p - M*fi*g + pi*M*g - fi*fi_p**2*long*m - fi*g*m + pi*fi_p**2*long*m + pi*g*m + u)/(M*long)\n"
          ]
        }
      ]
    },
    {
      "cell_type": "markdown",
      "source": [
        "Así, para el equilibrio **estable**, ambas funciones son:\n",
        "\n",
        "$\\begin{equation*}\n",
        "\\begin{cases}\n",
        "\\ddot{\\delta} = \\dfrac{-Fricc \\cdot \\dot{\\delta}+(\\pi-\\phi) \\cdot {\\dot{\\delta}}^2\\cdot long\\cdot m +(\\pi-\\phi)\\cdot g\\cdot m+u}{M} \\\\\n",
        "\\ddot{\\phi} = \\dfrac{-Fricc \\cdot \\dot{\\delta}+M \\cdot (\\pi-\\phi) \\cdot g+ (\\pi-\\phi) \\cdot{\\dot{\\phi}}^2\\cdot long\\cdot m + (\\pi-\\phi)\\cdot g\\cdot m+u}{M\\cdot long} \n",
        "\\end{cases}\n",
        "\\end{equation*}$\n",
        "\n",
        "\n",
        "Ahora se procede a realizar las derivadas de las funciones $\\ddot{\\delta}$ y $\\ddot{\\phi}$ respecto de las cuatro variables, que son $\\delta$, $\\dot{\\delta}$, $\\phi$, y $\\ddot{\\phi}$.\n",
        "Se emplea la función diff() y al resultado se lo valúa en el punto de operación mediante la indicación de cada uno con la operación .subs()."
      ],
      "metadata": {
        "id": "uRWoNDSb8L3m"
      }
    },
    {
      "cell_type": "code",
      "source": [
        "Mat_A=[[0,1,0,0],\n",
        "  [diff(p_pp, p).subs(p,0).subs(p_p,0).subs(fi,pi).subs(fi_p,0),\n",
        "  diff(p_pp, p_p).subs(p,0).subs(p_p,0).subs(fi,pi).subs(fi_p,0),\n",
        "  diff(p_pp, fi).subs(p,0).subs(p_p,0).subs(fi,pi).subs(fi_p,0),\n",
        "  diff(p_pp, fi_p).subs(p,0).subs(p_p,0).subs(fi,pi).subs(fi_p,0)],\n",
        "  [0,0,0,1],\n",
        "  [diff(fi_pp, p).subs(p,0).subs(p_p,0).subs(fi,pi).subs(fi_p,0),\n",
        "  diff(fi_pp, p_p).subs(p,0).subs(p_p,0).subs(fi,pi).subs(fi_p,0),\n",
        "  diff(fi_pp, fi).subs(p,0).subs(p_p,0).subs(fi,pi).subs(fi_p,0),\n",
        "  diff(fi_pp, fi_p).subs(p,0).subs(p_p,0).subs(fi,pi).subs(fi_p,0)]]\n",
        "Mat_B=[[0],\n",
        " [diff(p_pp, u).subs(p,0).subs(p_p,0).subs(fi,pi).subs(fi_p,0)],\n",
        " [0],\n",
        "[diff(fi_pp, u).subs(p,0).subs(p_p,0).subs(fi,pi).subs(fi_p,0)]]\n",
        "print(Mat_A)\n",
        "print(Mat_B)\n",
        "pretty_print(Mat_A)\n",
        "pretty_print(Mat_B)"
      ],
      "metadata": {
        "colab": {
          "base_uri": "https://localhost:8080/"
        },
        "outputId": "1e9a439f-233d-4fc3-c105-c26453cb5f9c",
        "id": "dZ1W4b4m8L3n"
      },
      "execution_count": null,
      "outputs": [
        {
          "output_type": "stream",
          "name": "stdout",
          "text": [
            "[[0, 1, 0, 0], [0, -Fricc/M, -g*m/M, 0], [0, 0, 0, 1], [0, -Fricc/(M*long), (-M*g - g*m)/(M*long), 0]]\n",
            "[[0], [1/M], [0], [1/(M*long)]]\n",
            "⎡              ⎡   -Fricc   -g⋅m    ⎤                ⎡   -Fricc   -M⋅g - g⋅m  \n",
            "⎢[0, 1, 0, 0], ⎢0, ───────, ─────, 0⎥, [0, 0, 0, 1], ⎢0, ───────, ──────────, \n",
            "⎣              ⎣      M       M     ⎦                ⎣    M⋅long    M⋅long    \n",
            "\n",
            " ⎤⎤\n",
            "0⎥⎥\n",
            " ⎦⎦\n",
            "⎡     ⎡1⎤       ⎡  1   ⎤⎤\n",
            "⎢[0], ⎢─⎥, [0], ⎢──────⎥⎥\n",
            "⎣     ⎣M⎦       ⎣M⋅long⎦⎦\n"
          ]
        }
      ]
    },
    {
      "cell_type": "code",
      "source": [
        "Mat_A"
      ],
      "metadata": {
        "colab": {
          "base_uri": "https://localhost:8080/",
          "height": 58
        },
        "id": "vg34TtwtDIyc",
        "outputId": "c28b7558-4db7-4749-933f-5975f4319a91"
      },
      "execution_count": null,
      "outputs": [
        {
          "output_type": "execute_result",
          "data": {
            "text/plain": [
              "⎡              ⎡   -Fricc   -g⋅m    ⎤                ⎡   -Fricc   -M⋅g - g⋅m  \n",
              "⎢[0, 1, 0, 0], ⎢0, ───────, ─────, 0⎥, [0, 0, 0, 1], ⎢0, ───────, ──────────, \n",
              "⎣              ⎣      M       M     ⎦                ⎣    M⋅long    M⋅long    \n",
              "\n",
              " ⎤⎤\n",
              "0⎥⎥\n",
              " ⎦⎦"
            ],
            "text/latex": "$\\displaystyle \\left[ \\left[ 0, \\  1, \\  0, \\  0\\right], \\  \\left[ 0, \\  - \\frac{Fricc}{M}, \\  - \\frac{g m}{M}, \\  0\\right], \\  \\left[ 0, \\  0, \\  0, \\  1\\right], \\  \\left[ 0, \\  - \\frac{Fricc}{M long}, \\  \\frac{- M g - g m}{M long}, \\  0\\right]\\right]$"
          },
          "metadata": {},
          "execution_count": 14
        }
      ]
    },
    {
      "cell_type": "code",
      "source": [
        "Mat_B"
      ],
      "metadata": {
        "colab": {
          "base_uri": "https://localhost:8080/",
          "height": 58
        },
        "id": "ccG20JTdDKPg",
        "outputId": "b7fa6d62-5c18-4fda-c73a-5e41c01c2a07"
      },
      "execution_count": null,
      "outputs": [
        {
          "output_type": "execute_result",
          "data": {
            "text/plain": [
              "⎡     ⎡1⎤       ⎡  1   ⎤⎤\n",
              "⎢[0], ⎢─⎥, [0], ⎢──────⎥⎥\n",
              "⎣     ⎣M⎦       ⎣M⋅long⎦⎦"
            ],
            "text/latex": "$\\displaystyle \\left[ \\left[ 0\\right], \\  \\left[ \\frac{1}{M}\\right], \\  \\left[ 0\\right], \\  \\left[ \\frac{1}{M long}\\right]\\right]$"
          },
          "metadata": {},
          "execution_count": 15
        }
      ]
    },
    {
      "cell_type": "markdown",
      "source": [
        "# **Simulación numérica para el equilibrio estable**"
      ],
      "metadata": {
        "id": "0XHHnYa1zlYV"
      }
    },
    {
      "cell_type": "code",
      "source": [
        "import numpy as np\n",
        "import scipy as sp\n",
        "import scipy.signal\n",
        "from matplotlib import pyplot as plt\n",
        "from pylab import *\n",
        "from numpy.linalg import eig\n",
        "m=.1;Fricc=0.1; long=.6;g=9.8;M=.5;\n",
        "##%Versión linealizada en el equilibrio Estable. Sontag Pp 104.\n",
        "##%            estado=[p(i); p_p(i); fi(i); omega(i)]\n",
        "##Mat_A=[0 1 0 0;0 -Fricc/M -m*g/M 0; 0 0 0 1; 0 Fricc/(long*M) g*(m+M)/(long*M) 0];\n",
        "##Mat_B=[0; 1/M; 0; -1/(long*M)];1\n",
        "##Mat_C=[1 0 0 0]; %La salida es posición\n",
        "h=1e-3;t_simul=10;\n",
        "Mat_A=np.array([[0. ,1. ,0. ,0.],[0.,-Fricc/M, -m*g/M,0.],[0., 0. ,0. ,1.],[0.,-Fricc/(long*M) ,-g*(m+M)/(long*M), 0.]])\n",
        "Mat_B=np.array([[0.],[1/M],[0.],[1./(long*M)]])\n",
        "# Mat_C=np.array([[1., 0., 0., 0.],[0, 0., 1., 0.]]) #Para cuando y tiene dos componentes\n",
        "Mat_C=np.array([[1., 0., 0., 0.]])\n",
        "fi=np.linspace(0,0,int(t_simul/h))\n",
        "omega=np.linspace(0,0,int(t_simul/h))\n",
        "p_p=np.linspace(0,0,int(t_simul/h))\n",
        "u=np.linspace(0,0,int(t_simul/h))\n",
        "p=np.linspace(0,0,int(t_simul/h))\n",
        "y=np.linspace(0,0,int(t_simul/h))\n",
        "y_o=np.linspace(0,0,int(t_simul/h))\n",
        "p_O=np.linspace(0,0,int(t_simul/h))\n",
        "p_pO=np.linspace(0,0,int(t_simul/h))\n",
        "fi_O=np.linspace(0,0,int(t_simul/h))\n",
        "fi_pO=np.linspace(0,0,int(t_simul/h))\n",
        "t=np.linspace(0,0,int(t_simul/h))\n",
        "##fi(1)=.1; color='r';\n",
        "##fi(1)=.2; color='g';\n",
        "##fi(1)=.7; color='b';\n",
        "fi[0]=3.5\n",
        "fi_pp=0.\n",
        "u[0]=0.\n",
        "estado=[[p[0]], [p_p[0]], [fi[0]], [omega[0]]]\n",
        "x_hat=np.array([[0.] ,[0.] ,[fi[0]],[0.]])\n",
        "xOP=np.array([[0.] ,[0.] ,[pi] ,[0.]])\n",
        "p_O[0]=x_hat[0] #El vector inicia en 0, en Octave en 1\n",
        "p_pO[0]=x_hat[1]\n",
        "fi_O[0]=x_hat[2]\n",
        "fi_pO[0]=x_hat[3]\n",
        "for ii in range(int(t_simul/h)-1):\n",
        "    y[ii]=np.matmul(Mat_C,estado)    \n",
        "    u[ii+1]=0. #Para accionar la fuerza\n",
        "    p_pp=(1/(M+m))*(u[ii]-m*long*fi_pp*cos(fi[ii])+(m*long*omega[ii]**2)*sin(fi[ii])-Fricc*p_p[ii])\n",
        "    fi_pp=(1/long)*(g*sin(fi[ii])-p_pp*cos(fi[ii]))\n",
        "    y_o[ii]=np.matmul(Mat_C,x_hat)\n",
        "    x_hatp = np.matmul(Mat_A,x_hat-xOP) + Mat_B*u[ii] \n",
        "    x_hat = x_hat + h*x_hatp;    \n",
        "    p_p[ii+1]  =p_p[ii]+h*p_pp;\n",
        "    p[ii+1]    =p[ii]+h*p_p[ii];\n",
        "    omega[ii+1]=omega[ii]+h*fi_pp;\n",
        "    fi[ii+1]   =fi[ii]+h*omega[ii];\n",
        "    t[ii] = ii*h\n",
        "    estado=[[p[ii+1]], [p_p[ii+1]], [fi[ii+1]], [omega[ii+1]]]\n",
        "    p_O[ii+1]=x_hat[0] #El vector inicia en 0, en Octave en 1\n",
        "    p_pO[ii+1]=x_hat[1]\n",
        "    fi_O[ii+1]=x_hat[2]\n",
        "    fi_pO[ii+1]=x_hat[3]\n",
        "t[ii+1] = ii*h\n",
        "u[ii+1]=0."
      ],
      "metadata": {
        "id": "aB3RFEGrAZeO"
      },
      "execution_count": null,
      "outputs": []
    },
    {
      "cell_type": "code",
      "source": [
        "# sudo apt-get install dvipng texlive-latex-extra texlive-fonts-recommended cm-super\n",
        "!apt-get install dvipng texlive-latex-extra texlive-fonts-recommended cm-super"
      ],
      "metadata": {
        "colab": {
          "base_uri": "https://localhost:8080/"
        },
        "id": "lg3vC-XwFrnG",
        "outputId": "9a305ba4-5d08-450b-fc7a-faa695d46af1"
      },
      "execution_count": null,
      "outputs": [
        {
          "output_type": "stream",
          "name": "stdout",
          "text": [
            "Reading package lists... Done\n",
            "Building dependency tree       \n",
            "Reading state information... Done\n",
            "The following package was automatically installed and is no longer required:\n",
            "  libnvidia-common-460\n",
            "Use 'apt autoremove' to remove it.\n",
            "The following additional packages will be installed:\n",
            "  cm-super-minimal fonts-droid-fallback fonts-lato fonts-lmodern\n",
            "  fonts-noto-mono fonts-texgyre ghostscript gsfonts javascript-common\n",
            "  libcupsfilters1 libcupsimage2 libgs9 libgs9-common libijs-0.35 libjbig2dec0\n",
            "  libjs-jquery libkpathsea6 libpotrace0 libptexenc1 libruby2.5 libsynctex1\n",
            "  libtexlua52 libtexluajit2 libzzip-0-13 lmodern pfb2t1c2pfb poppler-data\n",
            "  preview-latex-style rake ruby ruby-did-you-mean ruby-minitest\n",
            "  ruby-net-telnet ruby-power-assert ruby-test-unit ruby2.5\n",
            "  rubygems-integration t1utils tex-common tex-gyre texlive-base\n",
            "  texlive-binaries texlive-latex-base texlive-latex-recommended\n",
            "  texlive-pictures texlive-plain-generic tipa\n",
            "Suggested packages:\n",
            "  fonts-noto ghostscript-x apache2 | lighttpd | httpd poppler-utils\n",
            "  fonts-japanese-mincho | fonts-ipafont-mincho fonts-japanese-gothic\n",
            "  | fonts-ipafont-gothic fonts-arphic-ukai fonts-arphic-uming fonts-nanum ri\n",
            "  ruby-dev bundler debhelper perl-tk xpdf-reader | pdf-viewer\n",
            "  texlive-fonts-recommended-doc texlive-latex-base-doc python-pygments\n",
            "  icc-profiles libfile-which-perl libspreadsheet-parseexcel-perl\n",
            "  texlive-latex-extra-doc texlive-latex-recommended-doc texlive-pstricks\n",
            "  dot2tex prerex ruby-tcltk | libtcltk-ruby texlive-pictures-doc vprerex\n",
            "The following NEW packages will be installed:\n",
            "  cm-super cm-super-minimal dvipng fonts-droid-fallback fonts-lato\n",
            "  fonts-lmodern fonts-noto-mono fonts-texgyre ghostscript gsfonts\n",
            "  javascript-common libcupsfilters1 libcupsimage2 libgs9 libgs9-common\n",
            "  libijs-0.35 libjbig2dec0 libjs-jquery libkpathsea6 libpotrace0 libptexenc1\n",
            "  libruby2.5 libsynctex1 libtexlua52 libtexluajit2 libzzip-0-13 lmodern\n",
            "  pfb2t1c2pfb poppler-data preview-latex-style rake ruby ruby-did-you-mean\n",
            "  ruby-minitest ruby-net-telnet ruby-power-assert ruby-test-unit ruby2.5\n",
            "  rubygems-integration t1utils tex-common tex-gyre texlive-base\n",
            "  texlive-binaries texlive-fonts-recommended texlive-latex-base\n",
            "  texlive-latex-extra texlive-latex-recommended texlive-pictures\n",
            "  texlive-plain-generic tipa\n",
            "0 upgraded, 51 newly installed, 0 to remove and 12 not upgraded.\n",
            "Need to get 163 MB of archives.\n",
            "After this operation, 503 MB of additional disk space will be used.\n",
            "Get:1 http://archive.ubuntu.com/ubuntu bionic/main amd64 fonts-droid-fallback all 1:6.0.1r16-1.1 [1,805 kB]\n",
            "Get:2 http://archive.ubuntu.com/ubuntu bionic/main amd64 fonts-lato all 2.0-2 [2,698 kB]\n",
            "Get:3 http://archive.ubuntu.com/ubuntu bionic/main amd64 poppler-data all 0.4.8-2 [1,479 kB]\n",
            "Get:4 http://archive.ubuntu.com/ubuntu bionic/main amd64 tex-common all 6.09 [33.0 kB]\n",
            "Get:5 http://archive.ubuntu.com/ubuntu bionic-updates/main amd64 libkpathsea6 amd64 2017.20170613.44572-8ubuntu0.1 [54.9 kB]\n",
            "Get:6 http://archive.ubuntu.com/ubuntu bionic-updates/main amd64 libptexenc1 amd64 2017.20170613.44572-8ubuntu0.1 [34.5 kB]\n",
            "Get:7 http://archive.ubuntu.com/ubuntu bionic-updates/main amd64 libsynctex1 amd64 2017.20170613.44572-8ubuntu0.1 [41.4 kB]\n",
            "Get:8 http://archive.ubuntu.com/ubuntu bionic-updates/main amd64 libtexlua52 amd64 2017.20170613.44572-8ubuntu0.1 [91.2 kB]\n",
            "Get:9 http://archive.ubuntu.com/ubuntu bionic-updates/main amd64 libtexluajit2 amd64 2017.20170613.44572-8ubuntu0.1 [230 kB]\n",
            "Get:10 http://archive.ubuntu.com/ubuntu bionic/main amd64 t1utils amd64 1.41-2 [56.0 kB]\n",
            "Get:11 http://archive.ubuntu.com/ubuntu bionic-updates/main amd64 libcupsimage2 amd64 2.2.7-1ubuntu2.9 [18.6 kB]\n",
            "Get:12 http://archive.ubuntu.com/ubuntu bionic/main amd64 libijs-0.35 amd64 0.35-13 [15.5 kB]\n",
            "Get:13 http://archive.ubuntu.com/ubuntu bionic/main amd64 libjbig2dec0 amd64 0.13-6 [55.9 kB]\n",
            "Get:14 http://archive.ubuntu.com/ubuntu bionic-updates/main amd64 libgs9-common all 9.26~dfsg+0-0ubuntu0.18.04.17 [5,092 kB]\n",
            "Get:15 http://archive.ubuntu.com/ubuntu bionic-updates/main amd64 libgs9 amd64 9.26~dfsg+0-0ubuntu0.18.04.17 [2,267 kB]\n",
            "Get:16 http://archive.ubuntu.com/ubuntu bionic/main amd64 libpotrace0 amd64 1.14-2 [17.4 kB]\n",
            "Get:17 http://archive.ubuntu.com/ubuntu bionic-updates/main amd64 libzzip-0-13 amd64 0.13.62-3.1ubuntu0.18.04.1 [26.0 kB]\n",
            "Get:18 http://archive.ubuntu.com/ubuntu bionic-updates/main amd64 texlive-binaries amd64 2017.20170613.44572-8ubuntu0.1 [8,179 kB]\n",
            "Get:19 http://archive.ubuntu.com/ubuntu bionic/main amd64 texlive-base all 2017.20180305-1 [18.7 MB]\n",
            "Get:20 http://archive.ubuntu.com/ubuntu bionic/main amd64 fonts-lmodern all 2.004.5-3 [4,551 kB]\n",
            "Get:21 http://archive.ubuntu.com/ubuntu bionic/main amd64 texlive-latex-base all 2017.20180305-1 [951 kB]\n",
            "Get:22 http://archive.ubuntu.com/ubuntu bionic/main amd64 texlive-latex-recommended all 2017.20180305-1 [14.9 MB]\n",
            "Get:23 http://archive.ubuntu.com/ubuntu bionic/universe amd64 cm-super-minimal all 0.3.4-11 [5,810 kB]\n",
            "Get:24 http://archive.ubuntu.com/ubuntu bionic/universe amd64 pfb2t1c2pfb amd64 0.3-11 [9,342 B]\n",
            "Get:25 http://archive.ubuntu.com/ubuntu bionic/universe amd64 cm-super all 0.3.4-11 [18.7 MB]\n",
            "Get:26 http://archive.ubuntu.com/ubuntu bionic-updates/main amd64 ghostscript amd64 9.26~dfsg+0-0ubuntu0.18.04.17 [51.3 kB]\n",
            "Get:27 http://archive.ubuntu.com/ubuntu bionic/universe amd64 dvipng amd64 1.15-1 [78.2 kB]\n",
            "Get:28 http://archive.ubuntu.com/ubuntu bionic/main amd64 fonts-noto-mono all 20171026-2 [75.5 kB]\n",
            "Get:29 http://archive.ubuntu.com/ubuntu bionic/universe amd64 fonts-texgyre all 20160520-1 [8,761 kB]\n",
            "Get:30 http://archive.ubuntu.com/ubuntu bionic/main amd64 gsfonts all 1:8.11+urwcyr1.0.7~pre44-4.4 [3,120 kB]\n",
            "Get:31 http://archive.ubuntu.com/ubuntu bionic/main amd64 javascript-common all 11 [6,066 B]\n",
            "Get:32 http://archive.ubuntu.com/ubuntu bionic-updates/main amd64 libcupsfilters1 amd64 1.20.2-0ubuntu3.1 [108 kB]\n",
            "Get:33 http://archive.ubuntu.com/ubuntu bionic/main amd64 libjs-jquery all 3.2.1-1 [152 kB]\n",
            "Get:34 http://archive.ubuntu.com/ubuntu bionic/main amd64 rubygems-integration all 1.11 [4,994 B]\n",
            "Get:35 http://archive.ubuntu.com/ubuntu bionic-updates/main amd64 ruby2.5 amd64 2.5.1-1ubuntu1.12 [48.6 kB]\n",
            "Get:36 http://archive.ubuntu.com/ubuntu bionic/main amd64 ruby amd64 1:2.5.1 [5,712 B]\n",
            "Get:37 http://archive.ubuntu.com/ubuntu bionic-updates/main amd64 rake all 12.3.1-1ubuntu0.1 [44.9 kB]\n",
            "Get:38 http://archive.ubuntu.com/ubuntu bionic/main amd64 ruby-did-you-mean all 1.2.0-2 [9,700 B]\n",
            "Get:39 http://archive.ubuntu.com/ubuntu bionic/main amd64 ruby-minitest all 5.10.3-1 [38.6 kB]\n",
            "Get:40 http://archive.ubuntu.com/ubuntu bionic/main amd64 ruby-net-telnet all 0.1.1-2 [12.6 kB]\n",
            "Get:41 http://archive.ubuntu.com/ubuntu bionic/main amd64 ruby-power-assert all 0.3.0-1 [7,952 B]\n",
            "Get:42 http://archive.ubuntu.com/ubuntu bionic/main amd64 ruby-test-unit all 3.2.5-1 [61.1 kB]\n",
            "Get:43 http://archive.ubuntu.com/ubuntu bionic-updates/main amd64 libruby2.5 amd64 2.5.1-1ubuntu1.12 [3,073 kB]\n",
            "Get:44 http://archive.ubuntu.com/ubuntu bionic/main amd64 lmodern all 2.004.5-3 [9,631 kB]\n",
            "Get:45 http://archive.ubuntu.com/ubuntu bionic/main amd64 preview-latex-style all 11.91-1ubuntu1 [185 kB]\n",
            "Get:46 http://archive.ubuntu.com/ubuntu bionic/universe amd64 tex-gyre all 20160520-1 [4,998 kB]\n",
            "Get:47 http://archive.ubuntu.com/ubuntu bionic/universe amd64 texlive-fonts-recommended all 2017.20180305-1 [5,262 kB]\n",
            "Get:48 http://archive.ubuntu.com/ubuntu bionic/universe amd64 texlive-pictures all 2017.20180305-1 [4,026 kB]\n",
            "Get:49 http://archive.ubuntu.com/ubuntu bionic/universe amd64 texlive-latex-extra all 2017.20180305-2 [10.6 MB]\n",
            "Get:50 http://archive.ubuntu.com/ubuntu bionic/universe amd64 texlive-plain-generic all 2017.20180305-2 [23.6 MB]\n",
            "Get:51 http://archive.ubuntu.com/ubuntu bionic/universe amd64 tipa all 2:1.3-20 [2,978 kB]\n",
            "Fetched 163 MB in 9s (17.4 MB/s)\n",
            "Extracting templates from packages: 100%\n",
            "Preconfiguring packages ...\n",
            "Selecting previously unselected package fonts-droid-fallback.\n",
            "(Reading database ... 123934 files and directories currently installed.)\n",
            "Preparing to unpack .../00-fonts-droid-fallback_1%3a6.0.1r16-1.1_all.deb ...\n",
            "Unpacking fonts-droid-fallback (1:6.0.1r16-1.1) ...\n",
            "Selecting previously unselected package fonts-lato.\n",
            "Preparing to unpack .../01-fonts-lato_2.0-2_all.deb ...\n",
            "Unpacking fonts-lato (2.0-2) ...\n",
            "Selecting previously unselected package poppler-data.\n",
            "Preparing to unpack .../02-poppler-data_0.4.8-2_all.deb ...\n",
            "Unpacking poppler-data (0.4.8-2) ...\n",
            "Selecting previously unselected package tex-common.\n",
            "Preparing to unpack .../03-tex-common_6.09_all.deb ...\n",
            "Unpacking tex-common (6.09) ...\n",
            "Selecting previously unselected package libkpathsea6:amd64.\n",
            "Preparing to unpack .../04-libkpathsea6_2017.20170613.44572-8ubuntu0.1_amd64.deb ...\n",
            "Unpacking libkpathsea6:amd64 (2017.20170613.44572-8ubuntu0.1) ...\n",
            "Selecting previously unselected package libptexenc1:amd64.\n",
            "Preparing to unpack .../05-libptexenc1_2017.20170613.44572-8ubuntu0.1_amd64.deb ...\n",
            "Unpacking libptexenc1:amd64 (2017.20170613.44572-8ubuntu0.1) ...\n",
            "Selecting previously unselected package libsynctex1:amd64.\n",
            "Preparing to unpack .../06-libsynctex1_2017.20170613.44572-8ubuntu0.1_amd64.deb ...\n",
            "Unpacking libsynctex1:amd64 (2017.20170613.44572-8ubuntu0.1) ...\n",
            "Selecting previously unselected package libtexlua52:amd64.\n",
            "Preparing to unpack .../07-libtexlua52_2017.20170613.44572-8ubuntu0.1_amd64.deb ...\n",
            "Unpacking libtexlua52:amd64 (2017.20170613.44572-8ubuntu0.1) ...\n",
            "Selecting previously unselected package libtexluajit2:amd64.\n",
            "Preparing to unpack .../08-libtexluajit2_2017.20170613.44572-8ubuntu0.1_amd64.deb ...\n",
            "Unpacking libtexluajit2:amd64 (2017.20170613.44572-8ubuntu0.1) ...\n",
            "Selecting previously unselected package t1utils.\n",
            "Preparing to unpack .../09-t1utils_1.41-2_amd64.deb ...\n",
            "Unpacking t1utils (1.41-2) ...\n",
            "Selecting previously unselected package libcupsimage2:amd64.\n",
            "Preparing to unpack .../10-libcupsimage2_2.2.7-1ubuntu2.9_amd64.deb ...\n",
            "Unpacking libcupsimage2:amd64 (2.2.7-1ubuntu2.9) ...\n",
            "Selecting previously unselected package libijs-0.35:amd64.\n",
            "Preparing to unpack .../11-libijs-0.35_0.35-13_amd64.deb ...\n",
            "Unpacking libijs-0.35:amd64 (0.35-13) ...\n",
            "Selecting previously unselected package libjbig2dec0:amd64.\n",
            "Preparing to unpack .../12-libjbig2dec0_0.13-6_amd64.deb ...\n",
            "Unpacking libjbig2dec0:amd64 (0.13-6) ...\n",
            "Selecting previously unselected package libgs9-common.\n",
            "Preparing to unpack .../13-libgs9-common_9.26~dfsg+0-0ubuntu0.18.04.17_all.deb ...\n",
            "Unpacking libgs9-common (9.26~dfsg+0-0ubuntu0.18.04.17) ...\n",
            "Selecting previously unselected package libgs9:amd64.\n",
            "Preparing to unpack .../14-libgs9_9.26~dfsg+0-0ubuntu0.18.04.17_amd64.deb ...\n",
            "Unpacking libgs9:amd64 (9.26~dfsg+0-0ubuntu0.18.04.17) ...\n",
            "Selecting previously unselected package libpotrace0.\n",
            "Preparing to unpack .../15-libpotrace0_1.14-2_amd64.deb ...\n",
            "Unpacking libpotrace0 (1.14-2) ...\n",
            "Selecting previously unselected package libzzip-0-13:amd64.\n",
            "Preparing to unpack .../16-libzzip-0-13_0.13.62-3.1ubuntu0.18.04.1_amd64.deb ...\n",
            "Unpacking libzzip-0-13:amd64 (0.13.62-3.1ubuntu0.18.04.1) ...\n",
            "Selecting previously unselected package texlive-binaries.\n",
            "Preparing to unpack .../17-texlive-binaries_2017.20170613.44572-8ubuntu0.1_amd64.deb ...\n",
            "Unpacking texlive-binaries (2017.20170613.44572-8ubuntu0.1) ...\n",
            "Selecting previously unselected package texlive-base.\n",
            "Preparing to unpack .../18-texlive-base_2017.20180305-1_all.deb ...\n",
            "Unpacking texlive-base (2017.20180305-1) ...\n",
            "Selecting previously unselected package fonts-lmodern.\n",
            "Preparing to unpack .../19-fonts-lmodern_2.004.5-3_all.deb ...\n",
            "Unpacking fonts-lmodern (2.004.5-3) ...\n",
            "Selecting previously unselected package texlive-latex-base.\n",
            "Preparing to unpack .../20-texlive-latex-base_2017.20180305-1_all.deb ...\n",
            "Unpacking texlive-latex-base (2017.20180305-1) ...\n",
            "Selecting previously unselected package texlive-latex-recommended.\n",
            "Preparing to unpack .../21-texlive-latex-recommended_2017.20180305-1_all.deb ...\n",
            "Unpacking texlive-latex-recommended (2017.20180305-1) ...\n",
            "Selecting previously unselected package cm-super-minimal.\n",
            "Preparing to unpack .../22-cm-super-minimal_0.3.4-11_all.deb ...\n",
            "Unpacking cm-super-minimal (0.3.4-11) ...\n",
            "Selecting previously unselected package pfb2t1c2pfb.\n",
            "Preparing to unpack .../23-pfb2t1c2pfb_0.3-11_amd64.deb ...\n",
            "Unpacking pfb2t1c2pfb (0.3-11) ...\n",
            "Selecting previously unselected package cm-super.\n",
            "Preparing to unpack .../24-cm-super_0.3.4-11_all.deb ...\n",
            "Unpacking cm-super (0.3.4-11) ...\n",
            "Selecting previously unselected package ghostscript.\n",
            "Preparing to unpack .../25-ghostscript_9.26~dfsg+0-0ubuntu0.18.04.17_amd64.deb ...\n",
            "Unpacking ghostscript (9.26~dfsg+0-0ubuntu0.18.04.17) ...\n",
            "Selecting previously unselected package dvipng.\n",
            "Preparing to unpack .../26-dvipng_1.15-1_amd64.deb ...\n",
            "Unpacking dvipng (1.15-1) ...\n",
            "Selecting previously unselected package fonts-noto-mono.\n",
            "Preparing to unpack .../27-fonts-noto-mono_20171026-2_all.deb ...\n",
            "Unpacking fonts-noto-mono (20171026-2) ...\n",
            "Selecting previously unselected package fonts-texgyre.\n",
            "Preparing to unpack .../28-fonts-texgyre_20160520-1_all.deb ...\n",
            "Unpacking fonts-texgyre (20160520-1) ...\n",
            "Selecting previously unselected package gsfonts.\n",
            "Preparing to unpack .../29-gsfonts_1%3a8.11+urwcyr1.0.7~pre44-4.4_all.deb ...\n",
            "Unpacking gsfonts (1:8.11+urwcyr1.0.7~pre44-4.4) ...\n",
            "Selecting previously unselected package javascript-common.\n",
            "Preparing to unpack .../30-javascript-common_11_all.deb ...\n",
            "Unpacking javascript-common (11) ...\n",
            "Selecting previously unselected package libcupsfilters1:amd64.\n",
            "Preparing to unpack .../31-libcupsfilters1_1.20.2-0ubuntu3.1_amd64.deb ...\n",
            "Unpacking libcupsfilters1:amd64 (1.20.2-0ubuntu3.1) ...\n",
            "Selecting previously unselected package libjs-jquery.\n",
            "Preparing to unpack .../32-libjs-jquery_3.2.1-1_all.deb ...\n",
            "Unpacking libjs-jquery (3.2.1-1) ...\n",
            "Selecting previously unselected package rubygems-integration.\n",
            "Preparing to unpack .../33-rubygems-integration_1.11_all.deb ...\n",
            "Unpacking rubygems-integration (1.11) ...\n",
            "Selecting previously unselected package ruby2.5.\n",
            "Preparing to unpack .../34-ruby2.5_2.5.1-1ubuntu1.12_amd64.deb ...\n",
            "Unpacking ruby2.5 (2.5.1-1ubuntu1.12) ...\n",
            "Selecting previously unselected package ruby.\n",
            "Preparing to unpack .../35-ruby_1%3a2.5.1_amd64.deb ...\n",
            "Unpacking ruby (1:2.5.1) ...\n",
            "Selecting previously unselected package rake.\n",
            "Preparing to unpack .../36-rake_12.3.1-1ubuntu0.1_all.deb ...\n",
            "Unpacking rake (12.3.1-1ubuntu0.1) ...\n",
            "Selecting previously unselected package ruby-did-you-mean.\n",
            "Preparing to unpack .../37-ruby-did-you-mean_1.2.0-2_all.deb ...\n",
            "Unpacking ruby-did-you-mean (1.2.0-2) ...\n",
            "Selecting previously unselected package ruby-minitest.\n",
            "Preparing to unpack .../38-ruby-minitest_5.10.3-1_all.deb ...\n",
            "Unpacking ruby-minitest (5.10.3-1) ...\n",
            "Selecting previously unselected package ruby-net-telnet.\n",
            "Preparing to unpack .../39-ruby-net-telnet_0.1.1-2_all.deb ...\n",
            "Unpacking ruby-net-telnet (0.1.1-2) ...\n",
            "Selecting previously unselected package ruby-power-assert.\n",
            "Preparing to unpack .../40-ruby-power-assert_0.3.0-1_all.deb ...\n",
            "Unpacking ruby-power-assert (0.3.0-1) ...\n",
            "Selecting previously unselected package ruby-test-unit.\n",
            "Preparing to unpack .../41-ruby-test-unit_3.2.5-1_all.deb ...\n",
            "Unpacking ruby-test-unit (3.2.5-1) ...\n",
            "Selecting previously unselected package libruby2.5:amd64.\n",
            "Preparing to unpack .../42-libruby2.5_2.5.1-1ubuntu1.12_amd64.deb ...\n",
            "Unpacking libruby2.5:amd64 (2.5.1-1ubuntu1.12) ...\n",
            "Selecting previously unselected package lmodern.\n",
            "Preparing to unpack .../43-lmodern_2.004.5-3_all.deb ...\n",
            "Unpacking lmodern (2.004.5-3) ...\n",
            "Selecting previously unselected package preview-latex-style.\n",
            "Preparing to unpack .../44-preview-latex-style_11.91-1ubuntu1_all.deb ...\n",
            "Unpacking preview-latex-style (11.91-1ubuntu1) ...\n",
            "Selecting previously unselected package tex-gyre.\n",
            "Preparing to unpack .../45-tex-gyre_20160520-1_all.deb ...\n",
            "Unpacking tex-gyre (20160520-1) ...\n",
            "Selecting previously unselected package texlive-fonts-recommended.\n",
            "Preparing to unpack .../46-texlive-fonts-recommended_2017.20180305-1_all.deb ...\n",
            "Unpacking texlive-fonts-recommended (2017.20180305-1) ...\n",
            "Selecting previously unselected package texlive-pictures.\n",
            "Preparing to unpack .../47-texlive-pictures_2017.20180305-1_all.deb ...\n",
            "Unpacking texlive-pictures (2017.20180305-1) ...\n",
            "Selecting previously unselected package texlive-latex-extra.\n",
            "Preparing to unpack .../48-texlive-latex-extra_2017.20180305-2_all.deb ...\n",
            "Unpacking texlive-latex-extra (2017.20180305-2) ...\n",
            "Selecting previously unselected package texlive-plain-generic.\n",
            "Preparing to unpack .../49-texlive-plain-generic_2017.20180305-2_all.deb ...\n",
            "Unpacking texlive-plain-generic (2017.20180305-2) ...\n",
            "Selecting previously unselected package tipa.\n",
            "Preparing to unpack .../50-tipa_2%3a1.3-20_all.deb ...\n",
            "Unpacking tipa (2:1.3-20) ...\n",
            "Setting up libgs9-common (9.26~dfsg+0-0ubuntu0.18.04.17) ...\n",
            "Setting up libkpathsea6:amd64 (2017.20170613.44572-8ubuntu0.1) ...\n",
            "Setting up libjs-jquery (3.2.1-1) ...\n",
            "Setting up libtexlua52:amd64 (2017.20170613.44572-8ubuntu0.1) ...\n",
            "Setting up fonts-droid-fallback (1:6.0.1r16-1.1) ...\n",
            "Setting up libsynctex1:amd64 (2017.20170613.44572-8ubuntu0.1) ...\n",
            "Setting up libptexenc1:amd64 (2017.20170613.44572-8ubuntu0.1) ...\n",
            "Setting up tex-common (6.09) ...\n",
            "update-language: texlive-base not installed and configured, doing nothing!\n",
            "Setting up gsfonts (1:8.11+urwcyr1.0.7~pre44-4.4) ...\n",
            "Setting up poppler-data (0.4.8-2) ...\n",
            "Setting up tex-gyre (20160520-1) ...\n",
            "Setting up preview-latex-style (11.91-1ubuntu1) ...\n",
            "Setting up fonts-texgyre (20160520-1) ...\n",
            "Setting up pfb2t1c2pfb (0.3-11) ...\n",
            "Setting up fonts-noto-mono (20171026-2) ...\n",
            "Setting up fonts-lato (2.0-2) ...\n",
            "Setting up libcupsfilters1:amd64 (1.20.2-0ubuntu3.1) ...\n",
            "Setting up libcupsimage2:amd64 (2.2.7-1ubuntu2.9) ...\n",
            "Setting up libjbig2dec0:amd64 (0.13-6) ...\n",
            "Setting up ruby-did-you-mean (1.2.0-2) ...\n",
            "Setting up t1utils (1.41-2) ...\n",
            "Setting up ruby-net-telnet (0.1.1-2) ...\n",
            "Setting up libijs-0.35:amd64 (0.35-13) ...\n",
            "Setting up rubygems-integration (1.11) ...\n",
            "Setting up libpotrace0 (1.14-2) ...\n",
            "Setting up javascript-common (11) ...\n",
            "Setting up ruby-minitest (5.10.3-1) ...\n",
            "Setting up libzzip-0-13:amd64 (0.13.62-3.1ubuntu0.18.04.1) ...\n",
            "Setting up libgs9:amd64 (9.26~dfsg+0-0ubuntu0.18.04.17) ...\n",
            "Setting up libtexluajit2:amd64 (2017.20170613.44572-8ubuntu0.1) ...\n",
            "Setting up fonts-lmodern (2.004.5-3) ...\n",
            "Setting up ruby-power-assert (0.3.0-1) ...\n",
            "Setting up ghostscript (9.26~dfsg+0-0ubuntu0.18.04.17) ...\n",
            "Setting up texlive-binaries (2017.20170613.44572-8ubuntu0.1) ...\n",
            "update-alternatives: using /usr/bin/xdvi-xaw to provide /usr/bin/xdvi.bin (xdvi.bin) in auto mode\n",
            "update-alternatives: using /usr/bin/bibtex.original to provide /usr/bin/bibtex (bibtex) in auto mode\n",
            "Setting up texlive-base (2017.20180305-1) ...\n",
            "mktexlsr: Updating /var/lib/texmf/ls-R-TEXLIVEDIST... \n",
            "mktexlsr: Updating /var/lib/texmf/ls-R-TEXMFMAIN... \n",
            "mktexlsr: Updating /var/lib/texmf/ls-R... \n",
            "mktexlsr: Done.\n",
            "tl-paper: setting paper size for dvips to a4: /var/lib/texmf/dvips/config/config-paper.ps\n",
            "tl-paper: setting paper size for dvipdfmx to a4: /var/lib/texmf/dvipdfmx/dvipdfmx-paper.cfg\n",
            "tl-paper: setting paper size for xdvi to a4: /var/lib/texmf/xdvi/XDvi-paper\n",
            "tl-paper: setting paper size for pdftex to a4: /var/lib/texmf/tex/generic/config/pdftexconfig.tex\n",
            "Setting up texlive-fonts-recommended (2017.20180305-1) ...\n",
            "Setting up texlive-plain-generic (2017.20180305-2) ...\n",
            "Setting up texlive-latex-base (2017.20180305-1) ...\n",
            "Setting up lmodern (2.004.5-3) ...\n",
            "Setting up texlive-latex-recommended (2017.20180305-1) ...\n",
            "Setting up texlive-pictures (2017.20180305-1) ...\n",
            "Setting up dvipng (1.15-1) ...\n",
            "Setting up tipa (2:1.3-20) ...\n",
            "Regenerating '/var/lib/texmf/fmtutil.cnf-DEBIAN'... done.\n",
            "Regenerating '/var/lib/texmf/fmtutil.cnf-TEXLIVEDIST'... done.\n",
            "update-fmtutil has updated the following file(s):\n",
            "\t/var/lib/texmf/fmtutil.cnf-DEBIAN\n",
            "\t/var/lib/texmf/fmtutil.cnf-TEXLIVEDIST\n",
            "If you want to activate the changes in the above file(s),\n",
            "you should run fmtutil-sys or fmtutil.\n",
            "Setting up cm-super-minimal (0.3.4-11) ...\n",
            "Setting up texlive-latex-extra (2017.20180305-2) ...\n",
            "Setting up cm-super (0.3.4-11) ...\n",
            "Creating fonts. This may take some time... done.\n",
            "Setting up rake (12.3.1-1ubuntu0.1) ...\n",
            "Setting up ruby2.5 (2.5.1-1ubuntu1.12) ...\n",
            "Setting up ruby (1:2.5.1) ...\n",
            "Setting up ruby-test-unit (3.2.5-1) ...\n",
            "Setting up libruby2.5:amd64 (2.5.1-1ubuntu1.12) ...\n",
            "Processing triggers for mime-support (3.60ubuntu1) ...\n",
            "Processing triggers for libc-bin (2.27-3ubuntu1.6) ...\n",
            "Processing triggers for man-db (2.8.3-2ubuntu0.1) ...\n",
            "Processing triggers for fontconfig (2.12.6-0ubuntu2) ...\n",
            "Processing triggers for tex-common (6.09) ...\n",
            "Running updmap-sys. This may take some time... done.\n",
            "Running mktexlsr /var/lib/texmf ... done.\n",
            "Building format(s) --all.\n",
            "\tThis may take some time... done.\n"
          ]
        }
      ]
    },
    {
      "cell_type": "code",
      "source": [
        "!pip install SciencePlots\n",
        "import matplotlib.pyplot as plt\n",
        "plt.style.reload_library()\n",
        "plt.style.use('science')"
      ],
      "metadata": {
        "colab": {
          "base_uri": "https://localhost:8080/"
        },
        "id": "C3YK-ZLwBRFq",
        "outputId": "993adfaf-b179-42f0-c7b5-4c9dab35150f"
      },
      "execution_count": null,
      "outputs": [
        {
          "output_type": "stream",
          "name": "stdout",
          "text": [
            "Looking in indexes: https://pypi.org/simple, https://us-python.pkg.dev/colab-wheels/public/simple/\n",
            "Requirement already satisfied: SciencePlots in /usr/local/lib/python3.7/dist-packages (1.0.9)\n",
            "Requirement already satisfied: matplotlib in /usr/local/lib/python3.7/dist-packages (from SciencePlots) (3.2.2)\n",
            "Requirement already satisfied: numpy>=1.11 in /usr/local/lib/python3.7/dist-packages (from matplotlib->SciencePlots) (1.21.6)\n",
            "Requirement already satisfied: kiwisolver>=1.0.1 in /usr/local/lib/python3.7/dist-packages (from matplotlib->SciencePlots) (1.4.4)\n",
            "Requirement already satisfied: python-dateutil>=2.1 in /usr/local/lib/python3.7/dist-packages (from matplotlib->SciencePlots) (2.8.2)\n",
            "Requirement already satisfied: cycler>=0.10 in /usr/local/lib/python3.7/dist-packages (from matplotlib->SciencePlots) (0.11.0)\n",
            "Requirement already satisfied: pyparsing!=2.0.4,!=2.1.2,!=2.1.6,>=2.0.1 in /usr/local/lib/python3.7/dist-packages (from matplotlib->SciencePlots) (3.0.9)\n",
            "Requirement already satisfied: typing-extensions in /usr/local/lib/python3.7/dist-packages (from kiwisolver>=1.0.1->matplotlib->SciencePlots) (4.1.1)\n",
            "Requirement already satisfied: six>=1.5 in /usr/local/lib/python3.7/dist-packages (from python-dateutil>=2.1->matplotlib->SciencePlots) (1.15.0)\n"
          ]
        }
      ]
    },
    {
      "cell_type": "code",
      "source": [
        "\"\"\"Plot examples of SciencePlot styles.\"\"\"\n",
        "\n",
        "import numpy as np\n",
        "import matplotlib.pyplot as plt\n",
        "\n",
        "\n",
        "def model(x, p):\n",
        "    return x ** (2 * p + 1) / (1 + x ** (2 * p))\n",
        "\n",
        "\n",
        "pparam = dict(xlabel='Voltage (mV)', ylabel='Current ($\\mu$A)')\n",
        "\n",
        "x = np.linspace(0.75, 1.25, 201)\n",
        "\n",
        "with plt.style.context(['science']):\n",
        "    fig, ax = plt.subplots()\n",
        "    for p in [10, 15, 20, 30, 50, 100]:\n",
        "        ax.plot(x, model(x, p), label=p)\n",
        "    ax.legend(title='Order')\n",
        "    ax.autoscale(tight=True)\n",
        "    ax.set(**pparam)\n",
        "    fig.savefig('figures/fig1.pdf')\n",
        "    fig.savefig('figures/fig1.jpg', dpi=300)\n",
        "\n",
        "with plt.style.context(['science', 'ieee']):\n",
        "    fig, ax = plt.subplots()\n",
        "    for p in [10, 20, 40, 100]:\n",
        "        ax.plot(x, model(x, p), label=p)\n",
        "    ax.legend(title='Order')\n",
        "    ax.autoscale(tight=True)\n",
        "    ax.set(**pparam)\n",
        "    # Note: $\\mu$ doesn't work with Times font (used by ieee style)\n",
        "    ax.set_ylabel(r'Current (\\textmu A)')  \n",
        "    fig.savefig('figures/fig2a.pdf')\n",
        "    fig.savefig('figures/fig2a.jpg', dpi=300)\n",
        "\n",
        "with plt.style.context(['science', 'ieee', 'std-colors']):\n",
        "    fig, ax = plt.subplots()\n",
        "    for p in [10, 15, 20, 30, 50, 100]:\n",
        "        ax.plot(x, model(x, p), label=p)\n",
        "    ax.legend(title='Order')\n",
        "    ax.autoscale(tight=True)\n",
        "    ax.set(**pparam)\n",
        "    # Note: $\\mu$ doesn't work with Times font (used by ieee style)\n",
        "    ax.set_ylabel(r'Current (\\textmu A)')  \n",
        "    fig.savefig('figures/fig2b.pdf')\n",
        "    fig.savefig('figures/fig2b.jpg', dpi=300)\n",
        "\n",
        "with plt.style.context(['science', 'nature']):\n",
        "    fig, ax = plt.subplots()\n",
        "    for p in [10, 15, 20, 30, 50, 100]:\n",
        "        ax.plot(x, model(x, p), label=p)\n",
        "    ax.legend(title='Order')\n",
        "    ax.autoscale(tight=True)\n",
        "    ax.set(**pparam)\n",
        "    fig.savefig('figures/fig2c.pdf')\n",
        "    fig.savefig('figures/fig2c.jpg', dpi=300)\n",
        "\n",
        "with plt.style.context(['science', 'scatter']):\n",
        "    fig, ax = plt.subplots(figsize=(4, 4))\n",
        "    ax.plot([-2, 2], [-2, 2], 'k--')\n",
        "    ax.fill_between([-2, 2], [-2.2, 1.8], [-1.8, 2.2],\n",
        "                    color='dodgerblue', alpha=0.2, lw=0)\n",
        "    for i in range(7):\n",
        "        x1 = np.random.normal(0, 0.5, 10)\n",
        "        y1 = x1 + np.random.normal(0, 0.2, 10)\n",
        "        ax.plot(x1, y1, label=r\"$^\\#${}\".format(i+1))\n",
        "    lgd = r\"$\\mathring{P}=\\begin{cases}1&\\text{if $\\nu\\geq0$}\\\\0&\\text{if $\\nu<0$}\\end{cases}$\"\n",
        "    ax.legend(title=lgd, loc=2, ncol=2)\n",
        "    xlbl = r\"$\\log_{10}\\left(\\frac{L_\\mathrm{IR}}{\\mathrm{L}_\\odot}\\right)$\"\n",
        "    ylbl = r\"$\\log_{10}\\left(\\frac{L_\\circledast}{\\mathrm{L}_\\odot}\\right)$\"\n",
        "    ax.set_xlabel(xlbl)\n",
        "    ax.set_ylabel(ylbl)\n",
        "    ax.set_xlim([-2, 2])\n",
        "    ax.set_ylim([-2, 2])\n",
        "    fig.savefig('figures/fig3.pdf')\n",
        "    fig.savefig('figures/fig3.jpg', dpi=300)\n",
        "\n",
        "with plt.style.context(['science', 'high-vis']):\n",
        "    fig, ax = plt.subplots()\n",
        "    for p in [10, 15, 20, 30, 50, 100]:\n",
        "        ax.plot(x, model(x, p), label=p)\n",
        "    ax.legend(title='Order')\n",
        "    ax.autoscale(tight=True)\n",
        "    ax.set(**pparam)\n",
        "    fig.savefig('figures/fig4.pdf')\n",
        "    fig.savefig('figures/fig4.jpg', dpi=300)\n",
        "\n",
        "with plt.style.context(['dark_background', 'science', 'high-vis']):\n",
        "    fig, ax = plt.subplots()\n",
        "    for p in [10, 15, 20, 30, 50, 100]:\n",
        "        ax.plot(x, model(x, p), label=p)\n",
        "    ax.legend(title='Order')\n",
        "    ax.autoscale(tight=True)\n",
        "    ax.set(**pparam)\n",
        "    fig.savefig('figures/fig5.pdf')\n",
        "    fig.savefig('figures/fig5.jpg', dpi=300)\n",
        "\n",
        "with plt.style.context(['science', 'notebook']):\n",
        "    fig, ax = plt.subplots()\n",
        "    for p in [10, 15, 20, 30, 50, 100]:\n",
        "        ax.plot(x, model(x, p), label=p)\n",
        "    ax.legend(title='Order')\n",
        "    ax.autoscale(tight=True)\n",
        "    ax.set(**pparam)\n",
        "    fig.savefig('figures/fig10.pdf')\n",
        "    fig.savefig('figures/fig10.jpg', dpi=300)\n",
        "\n",
        "# Plot different color cycles\n",
        "\n",
        "with plt.style.context(['science', 'bright']):\n",
        "    fig, ax = plt.subplots()\n",
        "    for p in [5, 10, 15, 20, 30, 50, 100]:\n",
        "        ax.plot(x, model(x, p), label=p)\n",
        "    ax.legend(title='Order')\n",
        "    ax.autoscale(tight=True)\n",
        "    ax.set(**pparam)\n",
        "    fig.savefig('figures/fig6.pdf')\n",
        "    fig.savefig('figures/fig6.jpg', dpi=300)\n",
        "\n",
        "with plt.style.context(['science', 'vibrant']):\n",
        "    fig, ax = plt.subplots()\n",
        "    for p in [5, 10, 15, 20, 30, 50, 100]:\n",
        "        ax.plot(x, model(x, p), label=p)\n",
        "    ax.legend(title='Order')\n",
        "    ax.autoscale(tight=True)\n",
        "    ax.set(**pparam)\n",
        "    fig.savefig('figures/fig7.pdf')\n",
        "    fig.savefig('figures/fig7.jpg', dpi=300)\n",
        "\n",
        "with plt.style.context(['science', 'muted']):\n",
        "    fig, ax = plt.subplots()\n",
        "    for p in [5, 7, 10, 15, 20, 30, 38, 50, 100, 500]:\n",
        "        ax.plot(x, model(x, p), label=p)\n",
        "    ax.legend(title='Order', fontsize=7)\n",
        "    ax.autoscale(tight=True)\n",
        "    ax.set(**pparam)\n",
        "    fig.savefig('figures/fig8.pdf')\n",
        "    fig.savefig('figures/fig8.jpg', dpi=300)\n",
        "\n",
        "with plt.style.context(['science', 'retro']):\n",
        "    fig, ax = plt.subplots()\n",
        "    for p in [10, 15, 20, 30, 50, 100]:\n",
        "        ax.plot(x, model(x, p), label=p)\n",
        "    ax.legend(title='Order')\n",
        "    ax.autoscale(tight=True)\n",
        "    ax.set(**pparam)\n",
        "    fig.savefig('figures/fig9.pdf')\n",
        "    fig.savefig('figures/fig9.jpg', dpi=300)\n",
        "\n",
        "with plt.style.context(['science', 'grid']):\n",
        "    fig, ax = plt.subplots()\n",
        "    for p in [10, 15, 20, 30, 50, 100]:\n",
        "        ax.plot(x, model(x, p), label=p)\n",
        "    ax.legend(title='Order')\n",
        "    ax.autoscale(tight=True)\n",
        "    ax.set(**pparam)\n",
        "    fig.savefig('figures/fig11.pdf')\n",
        "    fig.savefig('figures/fig11.jpg', dpi=300)\n",
        "\n",
        "with plt.style.context(['science', 'high-contrast']):\n",
        "    fig, ax = plt.subplots()\n",
        "    for p in [10, 20, 50]:\n",
        "        ax.plot(x, model(x, p), label=p)\n",
        "    ax.legend(title='Order')\n",
        "    ax.autoscale(tight=True)\n",
        "    ax.set(**pparam)\n",
        "    fig.savefig('figures/fig12.pdf')\n",
        "    fig.savefig('figures/fig12.jpg', dpi=300)\n",
        "\n",
        "with plt.style.context(['science', 'light']):\n",
        "    fig, ax = plt.subplots()\n",
        "    for p in [5, 7, 10, 15, 20, 30, 38, 50, 100]:\n",
        "        ax.plot(x, model(x, p), label=p)\n",
        "    ax.legend(title='Order', fontsize=7)\n",
        "    ax.autoscale(tight=True)\n",
        "    ax.set(**pparam)\n",
        "    fig.savefig('figures/fig13.pdf')\n",
        "    fig.savefig('figures/fig13.jpg', dpi=300)\n",
        "\n",
        "# Note: You need to install the Noto Serif CJK Fonts before running \n",
        "# examples 14 and 15. See FAQ in README.\n",
        "\n",
        "with plt.style.context(['science', 'no-latex', 'cjk-tc-font']):\n",
        "    fig, ax = plt.subplots()\n",
        "    for p in [5, 7, 10, 15, 20, 30, 38, 50, 100]:\n",
        "        ax.plot(x, model(x, p), label=p)\n",
        "    ax.legend(title='Order', fontsize=7)\n",
        "    ax.set(xlabel=r'電壓 (mV)')\n",
        "    ax.set(ylabel=r'電流 ($\\mu$A)')\n",
        "    ax.autoscale(tight=True)\n",
        "    fig.savefig('figures/fig14a.jpg', dpi=300)\n",
        "\n",
        "with plt.style.context(['science', 'no-latex', 'cjk-sc-font']):\n",
        "    fig, ax = plt.subplots()\n",
        "    for p in [5, 7, 10, 15, 20, 30, 38, 50, 100]:\n",
        "        ax.plot(x, model(x, p), label=p)\n",
        "    ax.legend(title='Order', fontsize=7)\n",
        "    ax.set(xlabel=r'电压 (mV)')\n",
        "    ax.set(ylabel=r'电流 ($\\mu$A)')\n",
        "    ax.autoscale(tight=True)\n",
        "    fig.savefig('figures/fig14b.jpg', dpi=300)\n",
        "\n",
        "with plt.style.context(['science', 'no-latex', 'cjk-jp-font']):\n",
        "    fig, ax = plt.subplots()\n",
        "    for p in [5, 7, 10, 15, 20, 30, 38, 50, 100]:\n",
        "        ax.plot(x, model(x, p), label=p)\n",
        "    ax.legend(title='Order', fontsize=7)\n",
        "    ax.set(xlabel=r'電圧 (mV)')\n",
        "    ax.set(ylabel=r'電気 ($\\mu$A)')\n",
        "    ax.autoscale(tight=True)\n",
        "    fig.savefig('figures/fig14c.jpg', dpi=300)\n",
        "\n",
        "with plt.style.context(['science', 'no-latex', 'cjk-kr-font']):\n",
        "    fig, ax = plt.subplots()\n",
        "    for p in [5, 7, 10, 15, 20, 30, 38, 50, 100]:\n",
        "        ax.plot(x, model(x, p), label=p)\n",
        "    ax.legend(title='Order', fontsize=7)\n",
        "    ax.set(xlabel=r'전압 (mV)')\n",
        "    ax.set(ylabel=r'전류 ($\\mu$A)')\n",
        "    ax.autoscale(tight=True)\n",
        "    fig.savefig('figures/fig14d.jpg', dpi=300)\n",
        "\n",
        "# import matplotlib\n",
        "# matplotlib.use('pgf')  # stwich backend to pgf\n",
        "# matplotlib.rcParams.update({\n",
        "#     \"pgf.preamble\": [\n",
        "#         \"\\\\usepackage{fontspec}\",\n",
        "#         '\\\\usepackage{xeCJK}',\n",
        "#         r'\\setmainfont{Times New Roman}',  # EN fonts Romans\n",
        "#         r'\\setCJKmainfont{SimHei}',  # set CJK fonts as SimSun\n",
        "#         r'\\setCJKsansfont{SimHei}',\n",
        "#         r'\\newCJKfontfamily{\\Song}{SimSun}',\n",
        "#         ]\n",
        "# })\n",
        "\n",
        "# with plt.style.context(['science', 'cjk-tc-font']):\n",
        "#     fig, ax = plt.subplots()\n",
        "#     for p in [5, 7, 10, 15, 20, 30, 38, 50, 100]:\n",
        "#         ax.plot(x, model(x, p), label=p)\n",
        "#     ax.legend(title='Order', fontsize=7)\n",
        "#     ax.set(xlabel=r'電壓 (mV)') \n",
        "#     ax.set(ylabel=r'電流 ($\\mu$A)')\n",
        "#     ax.autoscale(tight=True)\n",
        "#     fig.savefig('figures/fig15.pdf', backend='pgf')\n",
        "\n",
        "with plt.style.context(['science', 'russian-font']):\n",
        "    fig, ax = plt.subplots()\n",
        "    for p in [5, 7, 10, 15, 20, 30, 38, 50, 100]:\n",
        "        ax.plot(x, model(x, p), label=p)\n",
        "    ax.legend(title=r'Число', fontsize=7)\n",
        "    ax.set(xlabel=r'Напряжение (mV)')\n",
        "    ax.set(ylabel=r'Сила тока ($\\mu$A)')\n",
        "    ax.autoscale(tight=True)\n",
        "    fig.savefig('figures/fig16.jpg', dpi=300)"
      ],
      "metadata": {
        "colab": {
          "base_uri": "https://localhost:8080/",
          "height": 556
        },
        "id": "hutqHELTDMQz",
        "outputId": "c6f3398d-0920-40ef-8f5f-544f1f0113be"
      },
      "execution_count": null,
      "outputs": [
        {
          "output_type": "error",
          "ename": "FileNotFoundError",
          "evalue": "ignored",
          "traceback": [
            "\u001b[0;31m---------------------------------------------------------------------------\u001b[0m",
            "\u001b[0;31mFileNotFoundError\u001b[0m                         Traceback (most recent call last)",
            "\u001b[0;32m<ipython-input-25-bd544165ef29>\u001b[0m in \u001b[0;36m<module>\u001b[0;34m\u001b[0m\n\u001b[1;32m     20\u001b[0m     \u001b[0max\u001b[0m\u001b[0;34m.\u001b[0m\u001b[0mautoscale\u001b[0m\u001b[0;34m(\u001b[0m\u001b[0mtight\u001b[0m\u001b[0;34m=\u001b[0m\u001b[0;32mTrue\u001b[0m\u001b[0;34m)\u001b[0m\u001b[0;34m\u001b[0m\u001b[0;34m\u001b[0m\u001b[0m\n\u001b[1;32m     21\u001b[0m     \u001b[0max\u001b[0m\u001b[0;34m.\u001b[0m\u001b[0mset\u001b[0m\u001b[0;34m(\u001b[0m\u001b[0;34m**\u001b[0m\u001b[0mpparam\u001b[0m\u001b[0;34m)\u001b[0m\u001b[0;34m\u001b[0m\u001b[0;34m\u001b[0m\u001b[0m\n\u001b[0;32m---> 22\u001b[0;31m     \u001b[0mfig\u001b[0m\u001b[0;34m.\u001b[0m\u001b[0msavefig\u001b[0m\u001b[0;34m(\u001b[0m\u001b[0;34m'figures/fig1.pdf'\u001b[0m\u001b[0;34m)\u001b[0m\u001b[0;34m\u001b[0m\u001b[0;34m\u001b[0m\u001b[0m\n\u001b[0m\u001b[1;32m     23\u001b[0m     \u001b[0mfig\u001b[0m\u001b[0;34m.\u001b[0m\u001b[0msavefig\u001b[0m\u001b[0;34m(\u001b[0m\u001b[0;34m'figures/fig1.jpg'\u001b[0m\u001b[0;34m,\u001b[0m \u001b[0mdpi\u001b[0m\u001b[0;34m=\u001b[0m\u001b[0;36m300\u001b[0m\u001b[0;34m)\u001b[0m\u001b[0;34m\u001b[0m\u001b[0;34m\u001b[0m\u001b[0m\n\u001b[1;32m     24\u001b[0m \u001b[0;34m\u001b[0m\u001b[0m\n",
            "\u001b[0;32m/usr/local/lib/python3.7/dist-packages/matplotlib/figure.py\u001b[0m in \u001b[0;36msavefig\u001b[0;34m(self, fname, transparent, **kwargs)\u001b[0m\n\u001b[1;32m   2201\u001b[0m             \u001b[0mself\u001b[0m\u001b[0;34m.\u001b[0m\u001b[0mpatch\u001b[0m\u001b[0;34m.\u001b[0m\u001b[0mset_visible\u001b[0m\u001b[0;34m(\u001b[0m\u001b[0mframeon\u001b[0m\u001b[0;34m)\u001b[0m\u001b[0;34m\u001b[0m\u001b[0;34m\u001b[0m\u001b[0m\n\u001b[1;32m   2202\u001b[0m \u001b[0;34m\u001b[0m\u001b[0m\n\u001b[0;32m-> 2203\u001b[0;31m         \u001b[0mself\u001b[0m\u001b[0;34m.\u001b[0m\u001b[0mcanvas\u001b[0m\u001b[0;34m.\u001b[0m\u001b[0mprint_figure\u001b[0m\u001b[0;34m(\u001b[0m\u001b[0mfname\u001b[0m\u001b[0;34m,\u001b[0m \u001b[0;34m**\u001b[0m\u001b[0mkwargs\u001b[0m\u001b[0;34m)\u001b[0m\u001b[0;34m\u001b[0m\u001b[0;34m\u001b[0m\u001b[0m\n\u001b[0m\u001b[1;32m   2204\u001b[0m \u001b[0;34m\u001b[0m\u001b[0m\n\u001b[1;32m   2205\u001b[0m         \u001b[0;32mif\u001b[0m \u001b[0mframeon\u001b[0m\u001b[0;34m:\u001b[0m\u001b[0;34m\u001b[0m\u001b[0;34m\u001b[0m\u001b[0m\n",
            "\u001b[0;32m/usr/local/lib/python3.7/dist-packages/matplotlib/backend_bases.py\u001b[0m in \u001b[0;36mprint_figure\u001b[0;34m(self, filename, dpi, facecolor, edgecolor, orientation, format, bbox_inches, **kwargs)\u001b[0m\n\u001b[1;32m   2124\u001b[0m                     \u001b[0morientation\u001b[0m\u001b[0;34m=\u001b[0m\u001b[0morientation\u001b[0m\u001b[0;34m,\u001b[0m\u001b[0;34m\u001b[0m\u001b[0;34m\u001b[0m\u001b[0m\n\u001b[1;32m   2125\u001b[0m                     \u001b[0mbbox_inches_restore\u001b[0m\u001b[0;34m=\u001b[0m\u001b[0m_bbox_inches_restore\u001b[0m\u001b[0;34m,\u001b[0m\u001b[0;34m\u001b[0m\u001b[0;34m\u001b[0m\u001b[0m\n\u001b[0;32m-> 2126\u001b[0;31m                     **kwargs)\n\u001b[0m\u001b[1;32m   2127\u001b[0m             \u001b[0;32mfinally\u001b[0m\u001b[0;34m:\u001b[0m\u001b[0;34m\u001b[0m\u001b[0;34m\u001b[0m\u001b[0m\n\u001b[1;32m   2128\u001b[0m                 \u001b[0;32mif\u001b[0m \u001b[0mbbox_inches\u001b[0m \u001b[0;32mand\u001b[0m \u001b[0mrestore_bbox\u001b[0m\u001b[0;34m:\u001b[0m\u001b[0;34m\u001b[0m\u001b[0;34m\u001b[0m\u001b[0m\n",
            "\u001b[0;32m/usr/local/lib/python3.7/dist-packages/matplotlib/backends/backend_pdf.py\u001b[0m in \u001b[0;36mprint_pdf\u001b[0;34m(self, filename, dpi, bbox_inches_restore, metadata, **kwargs)\u001b[0m\n\u001b[1;32m   2539\u001b[0m             \u001b[0mfile\u001b[0m \u001b[0;34m=\u001b[0m \u001b[0mfilename\u001b[0m\u001b[0;34m.\u001b[0m\u001b[0m_file\u001b[0m\u001b[0;34m\u001b[0m\u001b[0;34m\u001b[0m\u001b[0m\n\u001b[1;32m   2540\u001b[0m         \u001b[0;32melse\u001b[0m\u001b[0;34m:\u001b[0m\u001b[0;34m\u001b[0m\u001b[0;34m\u001b[0m\u001b[0m\n\u001b[0;32m-> 2541\u001b[0;31m             \u001b[0mfile\u001b[0m \u001b[0;34m=\u001b[0m \u001b[0mPdfFile\u001b[0m\u001b[0;34m(\u001b[0m\u001b[0mfilename\u001b[0m\u001b[0;34m,\u001b[0m \u001b[0mmetadata\u001b[0m\u001b[0;34m=\u001b[0m\u001b[0mmetadata\u001b[0m\u001b[0;34m)\u001b[0m\u001b[0;34m\u001b[0m\u001b[0;34m\u001b[0m\u001b[0m\n\u001b[0m\u001b[1;32m   2542\u001b[0m         \u001b[0;32mtry\u001b[0m\u001b[0;34m:\u001b[0m\u001b[0;34m\u001b[0m\u001b[0;34m\u001b[0m\u001b[0m\n\u001b[1;32m   2543\u001b[0m             \u001b[0mfile\u001b[0m\u001b[0;34m.\u001b[0m\u001b[0mnewPage\u001b[0m\u001b[0;34m(\u001b[0m\u001b[0mwidth\u001b[0m\u001b[0;34m,\u001b[0m \u001b[0mheight\u001b[0m\u001b[0;34m)\u001b[0m\u001b[0;34m\u001b[0m\u001b[0;34m\u001b[0m\u001b[0m\n",
            "\u001b[0;32m/usr/local/lib/python3.7/dist-packages/matplotlib/backends/backend_pdf.py\u001b[0m in \u001b[0;36m__init__\u001b[0;34m(self, filename, metadata)\u001b[0m\n\u001b[1;32m    457\u001b[0m         \u001b[0mself\u001b[0m\u001b[0;34m.\u001b[0m\u001b[0moriginal_file_like\u001b[0m \u001b[0;34m=\u001b[0m \u001b[0;32mNone\u001b[0m\u001b[0;34m\u001b[0m\u001b[0;34m\u001b[0m\u001b[0m\n\u001b[1;32m    458\u001b[0m         \u001b[0mself\u001b[0m\u001b[0;34m.\u001b[0m\u001b[0mtell_base\u001b[0m \u001b[0;34m=\u001b[0m \u001b[0;36m0\u001b[0m\u001b[0;34m\u001b[0m\u001b[0;34m\u001b[0m\u001b[0m\n\u001b[0;32m--> 459\u001b[0;31m         \u001b[0mfh\u001b[0m\u001b[0;34m,\u001b[0m \u001b[0mopened\u001b[0m \u001b[0;34m=\u001b[0m \u001b[0mcbook\u001b[0m\u001b[0;34m.\u001b[0m\u001b[0mto_filehandle\u001b[0m\u001b[0;34m(\u001b[0m\u001b[0mfilename\u001b[0m\u001b[0;34m,\u001b[0m \u001b[0;34m\"wb\"\u001b[0m\u001b[0;34m,\u001b[0m \u001b[0mreturn_opened\u001b[0m\u001b[0;34m=\u001b[0m\u001b[0;32mTrue\u001b[0m\u001b[0;34m)\u001b[0m\u001b[0;34m\u001b[0m\u001b[0;34m\u001b[0m\u001b[0m\n\u001b[0m\u001b[1;32m    460\u001b[0m         \u001b[0;32mif\u001b[0m \u001b[0;32mnot\u001b[0m \u001b[0mopened\u001b[0m\u001b[0;34m:\u001b[0m\u001b[0;34m\u001b[0m\u001b[0;34m\u001b[0m\u001b[0m\n\u001b[1;32m    461\u001b[0m             \u001b[0;32mtry\u001b[0m\u001b[0;34m:\u001b[0m\u001b[0;34m\u001b[0m\u001b[0;34m\u001b[0m\u001b[0m\n",
            "\u001b[0;32m/usr/local/lib/python3.7/dist-packages/matplotlib/cbook/__init__.py\u001b[0m in \u001b[0;36mto_filehandle\u001b[0;34m(fname, flag, return_opened, encoding)\u001b[0m\n\u001b[1;32m    401\u001b[0m             \u001b[0mfh\u001b[0m \u001b[0;34m=\u001b[0m \u001b[0mbz2\u001b[0m\u001b[0;34m.\u001b[0m\u001b[0mBZ2File\u001b[0m\u001b[0;34m(\u001b[0m\u001b[0mfname\u001b[0m\u001b[0;34m,\u001b[0m \u001b[0mflag\u001b[0m\u001b[0;34m)\u001b[0m\u001b[0;34m\u001b[0m\u001b[0;34m\u001b[0m\u001b[0m\n\u001b[1;32m    402\u001b[0m         \u001b[0;32melse\u001b[0m\u001b[0;34m:\u001b[0m\u001b[0;34m\u001b[0m\u001b[0;34m\u001b[0m\u001b[0m\n\u001b[0;32m--> 403\u001b[0;31m             \u001b[0mfh\u001b[0m \u001b[0;34m=\u001b[0m \u001b[0mopen\u001b[0m\u001b[0;34m(\u001b[0m\u001b[0mfname\u001b[0m\u001b[0;34m,\u001b[0m \u001b[0mflag\u001b[0m\u001b[0;34m,\u001b[0m \u001b[0mencoding\u001b[0m\u001b[0;34m=\u001b[0m\u001b[0mencoding\u001b[0m\u001b[0;34m)\u001b[0m\u001b[0;34m\u001b[0m\u001b[0;34m\u001b[0m\u001b[0m\n\u001b[0m\u001b[1;32m    404\u001b[0m         \u001b[0mopened\u001b[0m \u001b[0;34m=\u001b[0m \u001b[0;32mTrue\u001b[0m\u001b[0;34m\u001b[0m\u001b[0;34m\u001b[0m\u001b[0m\n\u001b[1;32m    405\u001b[0m     \u001b[0;32melif\u001b[0m \u001b[0mhasattr\u001b[0m\u001b[0;34m(\u001b[0m\u001b[0mfname\u001b[0m\u001b[0;34m,\u001b[0m \u001b[0;34m'seek'\u001b[0m\u001b[0;34m)\u001b[0m\u001b[0;34m:\u001b[0m\u001b[0;34m\u001b[0m\u001b[0;34m\u001b[0m\u001b[0m\n",
            "\u001b[0;31mFileNotFoundError\u001b[0m: [Errno 2] No such file or directory: 'figures/fig1.pdf'"
          ]
        },
        {
          "output_type": "display_data",
          "data": {
            "text/plain": [
              "<Figure size 252x189 with 1 Axes>"
            ],
            "image/png": "[encoded data removed]"
          },
          "metadata": {
            "needs_background": "light"
          }
        }
      ]
    },
    {
      "cell_type": "code",
      "source": [
        "with plt.style.context('science'):\n",
        "    # plt.figure()\n",
        "    # plt.plot(x, y)\n",
        "    # plt.show()\n",
        "  fig, axs = plt.subplots(2,2)\n",
        "  fig, ax1 = plt.subplots()\n",
        "\n",
        "fig.suptitle('Péndulo')\n",
        "axs[0,0].plot(t, fi, linewidth =1.0)\n",
        "axs[0,0].plot(t, fi_O, linewidth =1.0)\n",
        "axs[0,0].legend([\"No lineal\",\"Lineal\"])\n",
        "axs[0,0].grid( True )\n",
        "axs[0,0].set_ylabel('$\\phi_t$',rotation=0, fontsize=12) \n",
        "axs[0,1].plot(t, omega, linewidth =1.0)\n",
        "axs[0,1].plot(t, fi_pO, linewidth =1.0)\n",
        "axs[0,1].legend([\"No lineal\",\"Lineal\"])\n",
        "axs[0,1].set_ylabel('$\\dot{\\phi}$',rotation=0, fontsize=12)\n",
        "axs[0,1].grid( True )\n",
        "\n",
        "axs[1,0].plot(t, p, linewidth =1.0)\n",
        "axs[1,0].plot(t, p_O, linewidth =1.0)\n",
        "axs[1,0].legend([\"No lineal\",\"Lineal\"])\n",
        "axs[1,0].grid( True )\n",
        "axs[1,0].set_ylabel('$\\delta_t$',rotation=0, fontsize=12) \n",
        "axs[1,1].plot(t, p_p, linewidth =1.0)\n",
        "axs[1,1].plot(t, p_pO, linewidth =1.0)\n",
        "axs[1,1].legend([\"No lineal\",\"Lineal\"])\n",
        "axs[1,1].set_ylabel('$\\dot{\\delta}$',rotation=0, fontsize=12)\n",
        "axs[1,1].grid( True )\n",
        "#Acción de control\n",
        "fig, ax1 = plt.subplots()\n",
        "plt.plot(t, u, linewidth =1.0)\n",
        "plt.grid( True )\n",
        "ax1.set_ylabel('$u_t$',rotation=0, fontsize=12) \n",
        "ax1.set_xlabel('Tiempo (s)')\n",
        "#ax1.set_title(r'$\\ddot{o}\\acute{e}\\grave{e}\\hat{O}'\n",
        "#             r'\\breve{i}\\bar{A}\\tilde{n}\\vec{q}$', fontsize=20)\n",
        "ax1.set_title('$Acción\\ de\\ control\\ u_t.$', fontsize=10)\n",
        "\n",
        "# fig2, axs2 = plt.subplots(1,2)\n",
        "fig2.suptitle('Errores de linealización en el Equilibrio estable')\n",
        "axs2[0].plot(t, fi-fi_O, linewidth =1.0)\n",
        "axs2[0].grid( True )\n",
        "axs2[0].set_title('$Error\\ \\phi_t-\\phi_L$',rotation=0, fontsize=12) \n",
        "axs2[1].plot(t, p-p_O, linewidth =1.0)\n",
        "axs2[1].set_title('$Error\\ \\delta_t-\\delta_L$',rotation=0, fontsize=12)\n",
        "axs2[1].grid( True )"
      ],
      "metadata": {
        "colab": {
          "base_uri": "https://localhost:8080/",
          "height": 723
        },
        "id": "oZ1MF7idFuJp",
        "outputId": "d511c056-3367-47ea-a5d4-fd3b72b717aa"
      },
      "execution_count": null,
      "outputs": [
        {
          "output_type": "error",
          "ename": "ValueError",
          "evalue": "ignored",
          "traceback": [
            "\u001b[0;31m---------------------------------------------------------------------------\u001b[0m",
            "\u001b[0;31mValueError\u001b[0m                                Traceback (most recent call last)",
            "\u001b[0;32m<ipython-input-28-30fa604294f7>\u001b[0m in \u001b[0;36m<module>\u001b[0;34m\u001b[0m\n\u001b[1;32m     18\u001b[0m \u001b[0maxs\u001b[0m\u001b[0;34m[\u001b[0m\u001b[0;36m0\u001b[0m\u001b[0;34m,\u001b[0m\u001b[0;36m1\u001b[0m\u001b[0;34m]\u001b[0m\u001b[0;34m.\u001b[0m\u001b[0mgrid\u001b[0m\u001b[0;34m(\u001b[0m \u001b[0;32mTrue\u001b[0m \u001b[0;34m)\u001b[0m\u001b[0;34m\u001b[0m\u001b[0;34m\u001b[0m\u001b[0m\n\u001b[1;32m     19\u001b[0m \u001b[0;34m\u001b[0m\u001b[0m\n\u001b[0;32m---> 20\u001b[0;31m \u001b[0maxs\u001b[0m\u001b[0;34m[\u001b[0m\u001b[0;36m1\u001b[0m\u001b[0;34m,\u001b[0m\u001b[0;36m0\u001b[0m\u001b[0;34m]\u001b[0m\u001b[0;34m.\u001b[0m\u001b[0mplot\u001b[0m\u001b[0;34m(\u001b[0m\u001b[0mt\u001b[0m\u001b[0;34m,\u001b[0m \u001b[0mp\u001b[0m\u001b[0;34m,\u001b[0m \u001b[0mlinewidth\u001b[0m \u001b[0;34m=\u001b[0m\u001b[0;36m1.0\u001b[0m\u001b[0;34m)\u001b[0m\u001b[0;34m\u001b[0m\u001b[0;34m\u001b[0m\u001b[0m\n\u001b[0m\u001b[1;32m     21\u001b[0m \u001b[0maxs\u001b[0m\u001b[0;34m[\u001b[0m\u001b[0;36m1\u001b[0m\u001b[0;34m,\u001b[0m\u001b[0;36m0\u001b[0m\u001b[0;34m]\u001b[0m\u001b[0;34m.\u001b[0m\u001b[0mplot\u001b[0m\u001b[0;34m(\u001b[0m\u001b[0mt\u001b[0m\u001b[0;34m,\u001b[0m \u001b[0mp_O\u001b[0m\u001b[0;34m,\u001b[0m \u001b[0mlinewidth\u001b[0m \u001b[0;34m=\u001b[0m\u001b[0;36m1.0\u001b[0m\u001b[0;34m)\u001b[0m\u001b[0;34m\u001b[0m\u001b[0;34m\u001b[0m\u001b[0m\n\u001b[1;32m     22\u001b[0m \u001b[0maxs\u001b[0m\u001b[0;34m[\u001b[0m\u001b[0;36m1\u001b[0m\u001b[0;34m,\u001b[0m\u001b[0;36m0\u001b[0m\u001b[0;34m]\u001b[0m\u001b[0;34m.\u001b[0m\u001b[0mlegend\u001b[0m\u001b[0;34m(\u001b[0m\u001b[0;34m[\u001b[0m\u001b[0;34m\"No lineal\"\u001b[0m\u001b[0;34m,\u001b[0m\u001b[0;34m\"Lineal\"\u001b[0m\u001b[0;34m]\u001b[0m\u001b[0;34m)\u001b[0m\u001b[0;34m\u001b[0m\u001b[0;34m\u001b[0m\u001b[0m\n",
            "\u001b[0;32m/usr/local/lib/python3.7/dist-packages/matplotlib/axes/_axes.py\u001b[0m in \u001b[0;36mplot\u001b[0;34m(self, scalex, scaley, data, *args, **kwargs)\u001b[0m\n\u001b[1;32m   1645\u001b[0m         \"\"\"\n\u001b[1;32m   1646\u001b[0m         \u001b[0mkwargs\u001b[0m \u001b[0;34m=\u001b[0m \u001b[0mcbook\u001b[0m\u001b[0;34m.\u001b[0m\u001b[0mnormalize_kwargs\u001b[0m\u001b[0;34m(\u001b[0m\u001b[0mkwargs\u001b[0m\u001b[0;34m,\u001b[0m \u001b[0mmlines\u001b[0m\u001b[0;34m.\u001b[0m\u001b[0mLine2D\u001b[0m\u001b[0;34m)\u001b[0m\u001b[0;34m\u001b[0m\u001b[0;34m\u001b[0m\u001b[0m\n\u001b[0;32m-> 1647\u001b[0;31m         \u001b[0mlines\u001b[0m \u001b[0;34m=\u001b[0m \u001b[0;34m[\u001b[0m\u001b[0;34m*\u001b[0m\u001b[0mself\u001b[0m\u001b[0;34m.\u001b[0m\u001b[0m_get_lines\u001b[0m\u001b[0;34m(\u001b[0m\u001b[0;34m*\u001b[0m\u001b[0margs\u001b[0m\u001b[0;34m,\u001b[0m \u001b[0mdata\u001b[0m\u001b[0;34m=\u001b[0m\u001b[0mdata\u001b[0m\u001b[0;34m,\u001b[0m \u001b[0;34m**\u001b[0m\u001b[0mkwargs\u001b[0m\u001b[0;34m)\u001b[0m\u001b[0;34m]\u001b[0m\u001b[0;34m\u001b[0m\u001b[0;34m\u001b[0m\u001b[0m\n\u001b[0m\u001b[1;32m   1648\u001b[0m         \u001b[0;32mfor\u001b[0m \u001b[0mline\u001b[0m \u001b[0;32min\u001b[0m \u001b[0mlines\u001b[0m\u001b[0;34m:\u001b[0m\u001b[0;34m\u001b[0m\u001b[0;34m\u001b[0m\u001b[0m\n\u001b[1;32m   1649\u001b[0m             \u001b[0mself\u001b[0m\u001b[0;34m.\u001b[0m\u001b[0madd_line\u001b[0m\u001b[0;34m(\u001b[0m\u001b[0mline\u001b[0m\u001b[0;34m)\u001b[0m\u001b[0;34m\u001b[0m\u001b[0;34m\u001b[0m\u001b[0m\n",
            "\u001b[0;32m/usr/local/lib/python3.7/dist-packages/matplotlib/axes/_base.py\u001b[0m in \u001b[0;36m__call__\u001b[0;34m(self, *args, **kwargs)\u001b[0m\n\u001b[1;32m    214\u001b[0m                 \u001b[0mthis\u001b[0m \u001b[0;34m+=\u001b[0m \u001b[0margs\u001b[0m\u001b[0;34m[\u001b[0m\u001b[0;36m0\u001b[0m\u001b[0;34m]\u001b[0m\u001b[0;34m,\u001b[0m\u001b[0;34m\u001b[0m\u001b[0;34m\u001b[0m\u001b[0m\n\u001b[1;32m    215\u001b[0m                 \u001b[0margs\u001b[0m \u001b[0;34m=\u001b[0m \u001b[0margs\u001b[0m\u001b[0;34m[\u001b[0m\u001b[0;36m1\u001b[0m\u001b[0;34m:\u001b[0m\u001b[0;34m]\u001b[0m\u001b[0;34m\u001b[0m\u001b[0;34m\u001b[0m\u001b[0m\n\u001b[0;32m--> 216\u001b[0;31m             \u001b[0;32myield\u001b[0m \u001b[0;32mfrom\u001b[0m \u001b[0mself\u001b[0m\u001b[0;34m.\u001b[0m\u001b[0m_plot_args\u001b[0m\u001b[0;34m(\u001b[0m\u001b[0mthis\u001b[0m\u001b[0;34m,\u001b[0m \u001b[0mkwargs\u001b[0m\u001b[0;34m)\u001b[0m\u001b[0;34m\u001b[0m\u001b[0;34m\u001b[0m\u001b[0m\n\u001b[0m\u001b[1;32m    217\u001b[0m \u001b[0;34m\u001b[0m\u001b[0m\n\u001b[1;32m    218\u001b[0m     \u001b[0;32mdef\u001b[0m \u001b[0mget_next_color\u001b[0m\u001b[0;34m(\u001b[0m\u001b[0mself\u001b[0m\u001b[0;34m)\u001b[0m\u001b[0;34m:\u001b[0m\u001b[0;34m\u001b[0m\u001b[0;34m\u001b[0m\u001b[0m\n",
            "\u001b[0;32m/usr/local/lib/python3.7/dist-packages/matplotlib/axes/_base.py\u001b[0m in \u001b[0;36m_plot_args\u001b[0;34m(self, tup, kwargs)\u001b[0m\n\u001b[1;32m    340\u001b[0m \u001b[0;34m\u001b[0m\u001b[0m\n\u001b[1;32m    341\u001b[0m         \u001b[0;32mif\u001b[0m \u001b[0mx\u001b[0m\u001b[0;34m.\u001b[0m\u001b[0mshape\u001b[0m\u001b[0;34m[\u001b[0m\u001b[0;36m0\u001b[0m\u001b[0;34m]\u001b[0m \u001b[0;34m!=\u001b[0m \u001b[0my\u001b[0m\u001b[0;34m.\u001b[0m\u001b[0mshape\u001b[0m\u001b[0;34m[\u001b[0m\u001b[0;36m0\u001b[0m\u001b[0;34m]\u001b[0m\u001b[0;34m:\u001b[0m\u001b[0;34m\u001b[0m\u001b[0;34m\u001b[0m\u001b[0m\n\u001b[0;32m--> 342\u001b[0;31m             raise ValueError(f\"x and y must have same first dimension, but \"\n\u001b[0m\u001b[1;32m    343\u001b[0m                              f\"have shapes {x.shape} and {y.shape}\")\n\u001b[1;32m    344\u001b[0m         \u001b[0;32mif\u001b[0m \u001b[0mx\u001b[0m\u001b[0;34m.\u001b[0m\u001b[0mndim\u001b[0m \u001b[0;34m>\u001b[0m \u001b[0;36m2\u001b[0m \u001b[0;32mor\u001b[0m \u001b[0my\u001b[0m\u001b[0;34m.\u001b[0m\u001b[0mndim\u001b[0m \u001b[0;34m>\u001b[0m \u001b[0;36m2\u001b[0m\u001b[0;34m:\u001b[0m\u001b[0;34m\u001b[0m\u001b[0;34m\u001b[0m\u001b[0m\n",
            "\u001b[0;31mValueError\u001b[0m: x and y must have same first dimension, but have shapes (10000,) and (1,)"
          ]
        },
        {
          "output_type": "display_data",
          "data": {
            "text/plain": [
              "<Figure size 252x189 with 4 Axes>"
            ],
            "image/png": "[encoded data removed]"
          },
          "metadata": {
            "needs_background": "light"
          }
        },
        {
          "output_type": "display_data",
          "data": {
            "text/plain": [
              "<Figure size 252x189 with 1 Axes>"
            ],
            "image/png": "[encoded data removed]"
          },
          "metadata": {
            "needs_background": "light"
          }
        }
      ]
    },
    {
      "cell_type": "markdown",
      "source": [
        "# Cierre\n"
      ],
      "metadata": {
        "id": "A4GZViEzCQp_"
      }
    },
    {
      "cell_type": "code",
      "source": [
        "# from google.colab import drive\n",
        "# drive.mount('/content/drive')"
      ],
      "metadata": {
        "id": "_oTOYa438AnN"
      },
      "execution_count": null,
      "outputs": []
    },
    {
      "cell_type": "markdown",
      "source": [
        "Recordar que para el simbolico de Octave hay que instalar los paquetes. "
      ],
      "metadata": {
        "id": "IvPqyBox_T79"
      }
    }
  ]
}